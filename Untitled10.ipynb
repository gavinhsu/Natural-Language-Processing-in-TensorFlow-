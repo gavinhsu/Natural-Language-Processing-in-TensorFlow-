{
  "nbformat": 4,
  "nbformat_minor": 0,
  "metadata": {
    "colab": {
      "name": "Untitled10.ipynb",
      "provenance": [],
      "collapsed_sections": [],
      "authorship_tag": "ABX9TyOxzwf59f0vNDx4ebRRjh4m",
      "include_colab_link": true
    },
    "kernelspec": {
      "name": "python3",
      "display_name": "Python 3"
    },
    "accelerator": "GPU"
  },
  "cells": [
    {
      "cell_type": "markdown",
      "metadata": {
        "id": "view-in-github",
        "colab_type": "text"
      },
      "source": [
        "<a href=\"https://colab.research.google.com/github/gavinhsu/Natural-Language-Processing-in-TensorFlow-/blob/master/Untitled10.ipynb\" target=\"_parent\"><img src=\"https://colab.research.google.com/assets/colab-badge.svg\" alt=\"Open In Colab\"/></a>"
      ]
    },
    {
      "cell_type": "code",
      "metadata": {
        "id": "W2iNIj4bRC5x",
        "colab_type": "code",
        "outputId": "ef786de1-062f-4ca7-a637-e2f4b016abb0",
        "colab": {
          "base_uri": "https://localhost:8080/",
          "height": 36
        }
      },
      "source": [
        "import numpy as np\n",
        "import tensorflow as tf\n",
        "import os\n",
        "import sys\n",
        "from gensim.models.word2vec import Word2Vec\n",
        "from tensorflow import keras\n",
        "from tensorflow.keras.preprocessing.text import Tokenizer #label each word & provide a dict\n",
        "from tensorflow.keras.preprocessing.sequence import pad_sequences\n",
        "import subprocess\n",
        "import pandas as pd\n",
        "import io\n",
        "from google.colab import drive\n",
        "import nltk.data\n",
        "\n",
        "drive.mount('/content/drive')"
      ],
      "execution_count": 0,
      "outputs": [
        {
          "output_type": "stream",
          "text": [
            "Drive already mounted at /content/drive; to attempt to forcibly remount, call drive.mount(\"/content/drive\", force_remount=True).\n"
          ],
          "name": "stdout"
        }
      ]
    },
    {
      "cell_type": "code",
      "metadata": {
        "id": "tXavu05S2xdV",
        "colab_type": "code",
        "outputId": "ec81dd48-3247-4984-bbc0-52a2dcd49881",
        "colab": {
          "base_uri": "https://localhost:8080/",
          "height": 73
        }
      },
      "source": [
        "nltk.download('punkt')"
      ],
      "execution_count": 0,
      "outputs": [
        {
          "output_type": "stream",
          "text": [
            "[nltk_data] Downloading package punkt to /root/nltk_data...\n",
            "[nltk_data]   Package punkt is already up-to-date!\n"
          ],
          "name": "stdout"
        },
        {
          "output_type": "execute_result",
          "data": {
            "text/plain": [
              "True"
            ]
          },
          "metadata": {
            "tags": []
          },
          "execution_count": 9
        }
      ]
    },
    {
      "cell_type": "code",
      "metadata": {
        "id": "UGAo06QzXAeN",
        "colab_type": "code",
        "outputId": "654e1328-4400-4df9-b7a0-948b92889d35",
        "colab": {
          "base_uri": "https://localhost:8080/",
          "height": 56
        }
      },
      "source": [
        "question_train = open('/content/drive/My Drive/ques.txt','r',encoding='utf-8')\n",
        "train_data = question_train.read()\n",
        "train_data"
      ],
      "execution_count": 0,
      "outputs": [
        {
          "output_type": "execute_result",
          "data": {
            "text/plain": [
              "\"\\ufeffTell me about yourself.\\nWhat are your strengths?\\nWhat are your weaknesses?\\nWhy do you want this job?\\nWhere would you like to be in your career five years from now?\\nWhat's your ideal company?\\nWhat attracted you to this company?\\nWhy should we hire you?\\nWhat did you like least about your last job?\\nWhen were you most satisfied in your job?\\nWhat can you do for us that other candidates can't? \\nWhat were the responsibilities of your last position?  \\nWhy are you leaving your present job?\\nWhat do you know about this industry?  \\nWhat do you know about our company? \\nAre you willing to relocate?\\nDo you have any questions for me?\\nWhat was the last project you led, and what was its outcome? \\nGive me an example of a time that you felt you went above and beyond the call of duty at work. \\nCan you describe a time when your work was criticized? \\nHave you ever been on a team where someone was not pulling their own weight? How did you handle it? \\nTell me about a time when you had to give someone difficult feedback. How did you handle it? \\nWhat is your greatest failure, and what did you learn from it? \\nHow do you handle working with people who annoy you? \\nIf I were your supervisor and asked you to do something that you disagreed with, what would you do?\\nWhat was the most difficult period in your life, and how did you deal with it? \\nGive me an example of a time you did something wrong. How did you handle it? \\nTell me about a time where you had to deal with conflict on the job. \\nIf you were at a business lunch and you ordered a rare steak and they brought it to you well done, what would you do? \\nIf you found out your company was doing something against the law, like fraud, what would you do? \\nWhat assignment was too difficult for you, and how did you resolve the issue? \\nWhat's the most difficult decision you've made in the last two years and how did you come to that decision?\\nDescribe how you would handle a situation if you were required to finish multiple tasks by the end of the day, and there was no conceivable way that you could finish them. \\nWhat salary are you seeking?\\nWhat's your salary history?\\nIf I were to give you this salary you requested but let you write your job description for the next year, what would it say?\\nWhat are you looking for in terms of career development? \\nHow do you want to improve yourself in the next year?\\nWhat kind of goals would you have in mind if you got this job? \\nIf I were to ask your last supervisor to provide you additional training or exposure, what would she suggest?\\nHow would you go about establishing your credibility quickly with the team?\\nHow long will it take for you to make a significant contribution?\\nWhat do you see yourself doing within the first 30 days of this job?\\nIf selected for this position, can you describe your strategy for the first 90 days?\\nHow would you describe your work style? \\nWhat would be your ideal working environment? \\nWhat do you look for in terms of culture—structured or entrepreneurial? \\nGive examples of ideas you've had or implemented.\\nWhat techniques and tools do you use to keep yourself organized?   \\nIf you had to choose one, would you consider yourself a big-picture person or a detail-oriented person?  \\nTell me about your proudest achievement.  \\nWho was your favorite manager and why?  \\nWhat do you think of your previous boss? \\nWas there a person in your career who really made a difference? \\nWhat kind of personality do you work best with and why?  \\nWhat are you most proud of? \\nWhat do you like to do? \\nWhat are your lifelong dreams? \\nWhat do you ultimately want to become? \\nWhat is your personal mission statement?   \\nWhat are three positive things your last boss would say about you?  \\nWhat negative thing would your last boss say about you? \\nWhat three character traits would your friends use to describe you? \\nWhat are three positive character traits you don't have?  \\nIf you were interviewing someone for this position, what traits would you look for?  \\nList five words that describe your character.   \\nWho has impacted you most in your career and how? \\nWhat is your greatest fear? \\nWhat is your biggest regret and why?   \\nWhat's the most important thing you learned in school? \\nWhy did you choose your major?  \\nWhat will you miss about your present/last job?  \\nWhat is your greatest achievement outside of work?  \\nWhat are the qualities of a good leader? A bad leader?  \\nDo you think a leader should be feared or liked?     \\nHow do you feel about taking no for an answer?  \\nHow would you feel about working for someone who knows less than you? \\nHow do you think I rate as an interviewer? \\nTell me one thing about yourself you wouldn't want me to know.  \\nTell me the difference between good and exceptional.  \\nWhat kind of car do you drive? \\nThere's no right or wrong answer, but if you could be anywhere in the world right now, where would you be? \\nWhat's the last book you read?  \\nWhat magazines do you subscribe to? \\nWhat's the best movie you've seen in the last year?  \\nWhat would you do if you won the lottery? \\nWho are your heroes?\\nWhat do you like to do for fun? \\nWhat do you do in your spare time? \\nWhat is your favorite memory from childhood? \\nTell me about the toughest decision you had to make in the last six months.\\nWhat is your leadership style?\\nTell me about a time you disagreed with a decision. What did you do?\\nWhat can we expect from you in your first three months?\\nWhat was your salary in your last job?\\nWhat questions do you have for me?\\nWhat do you expect me to accomplish in the first 90 days?\\nIf you were to rank them, what are the three traits your top performers have in common?\\nWhat really drives results in this job?\\nWhat are the company's highest-priority goals this year, and how would my role contribute?\\nWhat percentage of employees was brought in by current employees?\\nHow important is it to work directly with your business users?\\n What elements are necessary for a successful team and why?\\nWhat percentage of your time do you spend unit testing?\\nWhat do you expect in the solution documents you are provided?\\nHow much reuse do you get out of the code that you develop, and how?\\nWhich do you prefer; service-oriented or batch-oriented solutions?\\nWhat technical websites do you follow?\\nTell me about some of the databases you have designed.\\nHow do you enforce relational integrity in database design?\\nWhen is it appropriate to de-normalize database design?\\nWhat is the difference between OLAP and OLTP? When is each used?\\nWhat automated-build tools or processes have you used?\\nWhat is the role of continuous integration systems in the automated-build process?\\nDescribe the difference between optimistic and pessimistic locking.\\nIn databases, what is the difference between a delete statement and a truncate statement?\\nWhat are transaction logs, and how are they used?\\nWhat are the most important database performance metrics, and how do you monitor them?\\nWhat is the role of SNMP?\\nWhat development tools have you used?\\nWhat languages have you programmed in?\\nWhat source control tools have you used?\\nescribe the elements of an in-tier architecture and their appropriate use.\\nCompare and contrast REST and SOAP web services.\\nDefine authentication and authorization and the tools that are used to support them in enterprise deployments.\\nHave you used Visual Studio?\\nHave you used Eclipse?\\nWhat is a SAN, and how is it used?\\nWhat is clustering, and describe its use?\\nWhat is the role of the DMZ in network architecture\\nWhat is a cross-site scripting attack, and how do you defend against it?\\nIn network security, what is a honeypot, and why is it used?\\nFrom the description of this position, what do you think you will be doing on a day-to-day basis?\\nWhat challenges do you think you might expect in this job if you were hired?\\nWhat would you do to ensure consistency across the unit, quality, and production environments?\\nYou have been asked to research a new business tool. You have come across two solutions. One is an on-premises solution, the other is cloud-based. Assuming they are functionally equivalent, would you recommend one over the other, and why?\\nWhat would you do to ensure you provided accurate project estimates?\\nYou have learned that a business unit is managing a major component of the business using Excel spreadsheets and Access databases. What risks does this present, and what would you recommend be done to mitigate those risks?\\nTell me about the most recent project you worked on. What were your responsibilities?\\nDescribe a time you were able to improve upon the design that was originally suggested.\\nTell me about the project you are most proud of, and what your contribution was.\\nDescribe your production deployment process.\\nGive an example of where you have applied your technical knowledge in a practical way.\\nHow did you manage source code?\\nWhat did you do to ensure quality in your deliverables?\\nWhen is the last time you downloaded a utility from the internet to make your work more productive, and what was it?\\nWhat are your technical certifications?\\nHow did your education prepare you for this job?\\nWhat do you do to maintain your technical certifications?\\nHow would you rate your key competencies for this job?\\nWhat are your IT strengths and weaknesses?\\n\\ufeffWhich programming languages do you prefer and why?\\nWhat is a class and a super class?\\nWhat’s the difference between Process and Thread?\\nWhat is a constructor?\\nWhat is a message?\\nWhat is an array?\\nWhat is a stream?\\nDescribe a singleton\\nWhat is an abstract class?\\nProvide some C source code\\nComparison between method and constructor\\nWhat are the steps for creating the object?\\nWhat is the difference between overloading and overriding?\\nWhat is the difference between an interface and an abstract class?\\nWhat javascript frameworks are you familiar with?\\nWhat do you know about the software development cycle?\\nWhat is the transport layer?\\nWhat is the application layer?\\nWhat is a file?\\nWhat is a class?\\nWhat is an object?\\nWhat is the different OOPS principle?\\nWhat is inheritance?\\nWhat is polymorphism?\\nWhat are instance and class variables?\\nCompare method and constructor?\\nWhat is a singleton class?\\nWhat are the steps for creating the object?\\nWhat is the different type of access modifiers?\\nWhich is the highest operator precedence in Java?\\nWhat is the difference between equals() and method and == operator?\\nIs string class final?\\nWhat is a wrapper class?\\nDifference between overloading and overriding?\\nWhat are multiple inheritances in Java?\\nWhat is a stream?\\nWhat is a Character stream?\\nWhat is a Byte stream?\\nWhat is an Interface?\\nDifference between class and interface?\\nWhat is an abstract class?\\nWhat is multiple inheritance? What are its advantages and disadvantages?\\nBriefly describe the correct usage of the following HTML5 semantic elements\\nWhat were some of the key goals and motivations for the HTML5 specification?\\nWhat are some of the key new features in HTML5?\\nWhat are some advantages of using Python over other programming languages?\\nExplain the difference between compile-time and runtime, then discuss how Python uses them during code checking.\\nWhat is a view and what are some advantages of it?\\nIs it possible to find a loop in a Linked list?\\nTwo linked lists L1 and L2 intersects at a particular node N1 and from there all other nodes till the end are common. The length of the lists are not same. What are the possibilities to find N1?\\nGiven a Binary Search Tree (BST), print its values in ascending order.\\nIs it possible to implement a queue using Linked List ? Enqueue & Dequeue should be O(1).\\nGiven a Tree, is it possible to find the greatest and least among leaves in linear time?\\nIs it possible to find the greatest and least value among the nodes in a given BST without using any extra variables?\\nIs it possible to implement 2 stack in an array?\\nGiven two keys K1 & K2, write an algorithm to print all the elements between them with K1<=K2 in a BST\\nHow many numbers of addresses are usable for addressing in a Class C network?\\nHow are the data units at Application layer is called?\\nWhat protocol is used by DNS name servers? Justify.\\nWhich of the following is used to direct a packet inside an internal network?\\nWhat is Acceptance Testing?\\nWhat’s the Software Testing?\\nWhat is Accessibility Testing?\\nWhat is Application Programming Interface (API)?\\nWhat is Ad Hoc Testing?\\nWhat is Beta Testing?\\nWhat is Backus-Naur Form?\\nWhat is Application Binary Interface (ABI)?\\nWhat is the difference between verification and validation?\\nWhat is Binary Portability Testing?\\nWhat is Bug?\\nWhat is Defect?\\nWhat is Branch Testing?\\nWhat is Breadth Testing?\\nWhat's the Alpha Testing?\\nWhat’s the Test Case?\\nWhat's the Beta Testing?\\nWhat is Component Testing?\\nWhat is End-to-End testing?\\nWhat is CAST?\\nWhat is CMM?\\nWhat is Compatibility Testing?\\nWhat is Debugging?\\nWhat is Dependency Testing?\\nWhat’s the Database testing?\\nWhat is the difference between interoperability and compatibility testing with some examples?\\nWhat’s the Traceability Matrix?\\nA document that showing the relationship between Test Requirements and Test Cases.\\nHow many types of approaches are used in Integration Testing?\\nThere are two types of approaches used:Bottom-Up, Top-Down.\\nWhat is Emulator?\\nA device, computer program, or system that accepts the same inputs and produces the same outputs as a given system.\\nWhat is Functional Decomposition?\\nA technique used during planning, analysis, and design; creates a functional hierarchy for the software.\\nWhat is Integration Testing?\\nTesting of combined parts of an application to determine if they function together correctly. Usually performed after unit and functional testing. This type of testing is especially relevant to client/server and distributed systems.\\nWhat is Metric?\\nA standard of measurement. Software metrics are the statistics describing the structure or content of a program. A metric should be a real objective measurement of something such as a number of bugs per lines of code.\\nWhat is Quality Assurance?\\nAll those planned or systematic actions necessary to provide adequate confidence that a product or service is of the type and quality needed and expected by the customer.\\nWhat is Race Condition?\\nA cause of concurrency problems. Multiple accesses to a shared resource, at least one of which is a write, with no mechanism used by either to moderate simultaneous access.\\nWhat is Scalability Testing?\\nPerformance testing focused on ensuring the application under test gracefully handles increases in workload.\\nWhat is Software Requirements Specification?\\nA deliverable that describes all data, functional and behavioral requirements, all constraints, and all validation requirements for software.\\nWhat is an operating system?\\nAn operating system is a program that acts as an intermediary between the user and the computer hardware. The purpose of an OS is to provide a convenient environment in which a user can execute programs in a convenient and efficient manner.\\nWhat are the different operating systems?\\nBatched operating systems\\nMulti-programmed operating systems\\ntimesharing operating systems\\nDistributed operating systems\\nReal-time operating systems\\nWhat are the basic functions of an operating system?\\nOperating system controls and coordinates the use of the hardware among the various applications programs for various uses. Operating system acts as resource allocator and manager. Also operating system is control program which controls the user programs to prevent errors and improper use of the computer. It is especially concerned with the operation and control of I/O devices.\\nWhat is a kernel?\\nThe kernel is the core and essential part of a computer operating system that provides basic services for all parts of OS.\\nWhat is the difference between microkernel and macro kernel?\\nThe microkernel is a kernel which run services those are minimal for operating system performance. In this kernel, all other operations are performed by the processor. Macro Kernel is a combination of micro and monolithic kernel. In monolithic kernel, all operating system code is in the single executable image.\""
            ]
          },
          "metadata": {
            "tags": []
          },
          "execution_count": 10
        }
      ]
    },
    {
      "cell_type": "code",
      "metadata": {
        "id": "oimaCKDKD-v9",
        "colab_type": "code",
        "outputId": "8e761d97-83d3-440e-be97-75e9e10d388b",
        "colab": {
          "base_uri": "https://localhost:8080/",
          "height": 56
        }
      },
      "source": [
        "question_test = open('/content/drive/My Drive/ques3.txt','r',encoding='utf-8')\n",
        "test_data = question_test.read()\n",
        "test_data"
      ],
      "execution_count": 0,
      "outputs": [
        {
          "output_type": "execute_result",
          "data": {
            "text/plain": [
              "\"\\ufeffWhich programming languages do you prefer and why?\\nWhat is a class and a super class?\\nWhat’s the difference between Process and Thread?\\nWhat is a constructor?\\nWhat is a message?\\nWhat is an array?\\nWhat is a stream?\\nDescribe a singleton\\nWhat is an abstract class?\\nProvide some C source code\\nComparison between method and constructor\\nWhat are the steps for creating the object?\\nWhat is the difference between overloading and overriding?\\nWhat is the difference between an interface and an abstract class?\\nWhat javascript frameworks are you familiar with?\\nWhat do you know about the software development cycle?\\nWhat is the transport layer?\\nWhat is the application layer?\\nWhat is a file?\\nWhat is a class?\\nWhat is an object?\\nWhat is the different OOPS principle?\\nWhat is inheritance?\\nWhat is polymorphism?\\nWhat are instance and class variables?\\nCompare method and constructor?\\nWhat is a singleton class?\\nWhat are the steps for creating the object?\\nWhat is the different type of access modifiers?\\nWhich is the highest operator precedence in Java?\\nWhat is the difference between equals() and method and == operator?\\nIs string class final?\\nWhat is a wrapper class?\\nDifference between overloading and overriding?\\nWhat are multiple inheritances in Java?\\nWhat is a stream?\\nWhat is a Character stream?\\nWhat is a Byte stream?\\nWhat is an Interface?\\nDifference between class and interface?\\nWhat is an abstract class?\\nWhat is multiple inheritance? What are its advantages and disadvantages?\\nBriefly describe the correct usage of the following HTML5 semantic elements\\nWhat were some of the key goals and motivations for the HTML5 specification?\\nWhat are some of the key new features in HTML5?\\nWhat are some advantages of using Python over other programming languages?\\nExplain the difference between compile-time and runtime, then discuss how Python uses them during code checking.\\nWhat is a view and what are some advantages of it?\\nIs it possible to find a loop in a Linked list?\\nTwo linked lists L1 and L2 intersects at a particular node N1 and from there all other nodes till the end are common. The length of the lists are not same. What are the possibilities to find N1?\\nGiven a Binary Search Tree (BST), print its values in ascending order.\\nIs it possible to implement a queue using Linked List ? Enqueue & Dequeue should be O(1).\\nGiven a Tree, is it possible to find the greatest and least among leaves in linear time?\\nIs it possible to find the greatest and least value among the nodes in a given BST without using any extra variables?\\nIs it possible to implement 2 stack in an array?\\nGiven two keys K1 & K2, write an algorithm to print all the elements between them with K1<=K2 in a BST\\nHow many numbers of addresses are usable for addressing in a Class C network?\\nHow are the data units at Application layer is called?\\nWhat protocol is used by DNS name servers? Justify.\\nWhich of the following is used to direct a packet inside an internal network?\\nWhat is Acceptance Testing?\\nWhat’s the Software Testing?\\nWhat is Accessibility Testing?\\nWhat is Application Programming Interface (API)?\\nWhat is Ad Hoc Testing?\\nWhat is Beta Testing?\\nWhat is Backus-Naur Form?\\nWhat is Application Binary Interface (ABI)?\\nWhat is the difference between verification and validation?\\nWhat is Binary Portability Testing?\\nWhat is Bug?\\nWhat is Defect?\\nWhat is Branch Testing?\\nWhat is Breadth Testing?\\nWhat's the Alpha Testing?\\nWhat’s the Test Case?\\nWhat's the Beta Testing?\\nWhat is Component Testing?\\nWhat is End-to-End testing?\\nWhat is CAST?\\nWhat is CMM?\\nWhat is Compatibility Testing?\\nWhat is Debugging?\\nWhat is Dependency Testing?\\nWhat’s the Database testing?\\nWhat is the difference between interoperability and compatibility testing with some examples?\\nWhat’s the Traceability Matrix?\\nA document that showing the relationship between Test Requirements and Test Cases.\\nHow many types of approaches are used in Integration Testing?\\nThere are two types of approaches used:Bottom-Up, Top-Down.\\nWhat is Emulator?\\nA device, computer program, or system that accepts the same inputs and produces the same outputs as a given system.\\nWhat is Functional Decomposition?\\nA technique used during planning, analysis, and design; creates a functional hierarchy for the software.\\nWhat is Integration Testing?\\nTesting of combined parts of an application to determine if they function together correctly. Usually performed after unit and functional testing. This type of testing is especially relevant to client/server and distributed systems.\\nWhat is Metric?\\nA standard of measurement. Software metrics are the statistics describing the structure or content of a program. A metric should be a real objective measurement of something such as a number of bugs per lines of code.\\nWhat is Quality Assurance?\\nAll those planned or systematic actions necessary to provide adequate confidence that a product or service is of the type and quality needed and expected by the customer.\\nWhat is Race Condition?\\nA cause of concurrency problems. Multiple accesses to a shared resource, at least one of which is a write, with no mechanism used by either to moderate simultaneous access.\\nWhat is Scalability Testing?\\nPerformance testing focused on ensuring the application under test gracefully handles increases in workload.\\nWhat is Software Requirements Specification?\\nA deliverable that describes all data, functional and behavioral requirements, all constraints, and all validation requirements for software.\\nWhat is an operating system?\\nAn operating system is a program that acts as an intermediary between the user and the computer hardware. The purpose of an OS is to provide a convenient environment in which a user can execute programs in a convenient and efficient manner.\\nWhat are the different operating systems?\\nBatched operating systems\\nMulti-programmed operating systems\\ntimesharing operating systems\\nDistributed operating systems\\nReal-time operating systems\\nWhat are the basic functions of an operating system?\\nOperating system controls and coordinates the use of the hardware among the various applications programs for various uses. Operating system acts as resource allocator and manager. Also operating system is control program which controls the user programs to prevent errors and improper use of the computer. It is especially concerned with the operation and control of I/O devices.\\nWhat is a kernel?\\nThe kernel is the core and essential part of a computer operating system that provides basic services for all parts of OS.\\nWhat is the difference between microkernel and macro kernel?\\nThe microkernel is a kernel which run services those are minimal for operating system performance. In this kernel, all other operations are performed by the processor. Macro Kernel is a combination of micro and monolithic kernel. In monolithic kernel, all operating system code is in the single executable image.\""
            ]
          },
          "metadata": {
            "tags": []
          },
          "execution_count": 11
        }
      ]
    },
    {
      "cell_type": "code",
      "metadata": {
        "id": "8dM9p87H8VIx",
        "colab_type": "code",
        "outputId": "07435c6c-c67a-49a7-8015-b6a5c8b2a028",
        "colab": {
          "base_uri": "https://localhost:8080/",
          "height": 56
        }
      },
      "source": [
        "data = train_data + test_data\n",
        "data"
      ],
      "execution_count": 0,
      "outputs": [
        {
          "output_type": "execute_result",
          "data": {
            "text/plain": [
              "\"\\ufeffTell me about yourself.\\nWhat are your strengths?\\nWhat are your weaknesses?\\nWhy do you want this job?\\nWhere would you like to be in your career five years from now?\\nWhat's your ideal company?\\nWhat attracted you to this company?\\nWhy should we hire you?\\nWhat did you like least about your last job?\\nWhen were you most satisfied in your job?\\nWhat can you do for us that other candidates can't? \\nWhat were the responsibilities of your last position?  \\nWhy are you leaving your present job?\\nWhat do you know about this industry?  \\nWhat do you know about our company? \\nAre you willing to relocate?\\nDo you have any questions for me?\\nWhat was the last project you led, and what was its outcome? \\nGive me an example of a time that you felt you went above and beyond the call of duty at work. \\nCan you describe a time when your work was criticized? \\nHave you ever been on a team where someone was not pulling their own weight? How did you handle it? \\nTell me about a time when you had to give someone difficult feedback. How did you handle it? \\nWhat is your greatest failure, and what did you learn from it? \\nHow do you handle working with people who annoy you? \\nIf I were your supervisor and asked you to do something that you disagreed with, what would you do?\\nWhat was the most difficult period in your life, and how did you deal with it? \\nGive me an example of a time you did something wrong. How did you handle it? \\nTell me about a time where you had to deal with conflict on the job. \\nIf you were at a business lunch and you ordered a rare steak and they brought it to you well done, what would you do? \\nIf you found out your company was doing something against the law, like fraud, what would you do? \\nWhat assignment was too difficult for you, and how did you resolve the issue? \\nWhat's the most difficult decision you've made in the last two years and how did you come to that decision?\\nDescribe how you would handle a situation if you were required to finish multiple tasks by the end of the day, and there was no conceivable way that you could finish them. \\nWhat salary are you seeking?\\nWhat's your salary history?\\nIf I were to give you this salary you requested but let you write your job description for the next year, what would it say?\\nWhat are you looking for in terms of career development? \\nHow do you want to improve yourself in the next year?\\nWhat kind of goals would you have in mind if you got this job? \\nIf I were to ask your last supervisor to provide you additional training or exposure, what would she suggest?\\nHow would you go about establishing your credibility quickly with the team?\\nHow long will it take for you to make a significant contribution?\\nWhat do you see yourself doing within the first 30 days of this job?\\nIf selected for this position, can you describe your strategy for the first 90 days?\\nHow would you describe your work style? \\nWhat would be your ideal working environment? \\nWhat do you look for in terms of culture—structured or entrepreneurial? \\nGive examples of ideas you've had or implemented.\\nWhat techniques and tools do you use to keep yourself organized?   \\nIf you had to choose one, would you consider yourself a big-picture person or a detail-oriented person?  \\nTell me about your proudest achievement.  \\nWho was your favorite manager and why?  \\nWhat do you think of your previous boss? \\nWas there a person in your career who really made a difference? \\nWhat kind of personality do you work best with and why?  \\nWhat are you most proud of? \\nWhat do you like to do? \\nWhat are your lifelong dreams? \\nWhat do you ultimately want to become? \\nWhat is your personal mission statement?   \\nWhat are three positive things your last boss would say about you?  \\nWhat negative thing would your last boss say about you? \\nWhat three character traits would your friends use to describe you? \\nWhat are three positive character traits you don't have?  \\nIf you were interviewing someone for this position, what traits would you look for?  \\nList five words that describe your character.   \\nWho has impacted you most in your career and how? \\nWhat is your greatest fear? \\nWhat is your biggest regret and why?   \\nWhat's the most important thing you learned in school? \\nWhy did you choose your major?  \\nWhat will you miss about your present/last job?  \\nWhat is your greatest achievement outside of work?  \\nWhat are the qualities of a good leader? A bad leader?  \\nDo you think a leader should be feared or liked?     \\nHow do you feel about taking no for an answer?  \\nHow would you feel about working for someone who knows less than you? \\nHow do you think I rate as an interviewer? \\nTell me one thing about yourself you wouldn't want me to know.  \\nTell me the difference between good and exceptional.  \\nWhat kind of car do you drive? \\nThere's no right or wrong answer, but if you could be anywhere in the world right now, where would you be? \\nWhat's the last book you read?  \\nWhat magazines do you subscribe to? \\nWhat's the best movie you've seen in the last year?  \\nWhat would you do if you won the lottery? \\nWho are your heroes?\\nWhat do you like to do for fun? \\nWhat do you do in your spare time? \\nWhat is your favorite memory from childhood? \\nTell me about the toughest decision you had to make in the last six months.\\nWhat is your leadership style?\\nTell me about a time you disagreed with a decision. What did you do?\\nWhat can we expect from you in your first three months?\\nWhat was your salary in your last job?\\nWhat questions do you have for me?\\nWhat do you expect me to accomplish in the first 90 days?\\nIf you were to rank them, what are the three traits your top performers have in common?\\nWhat really drives results in this job?\\nWhat are the company's highest-priority goals this year, and how would my role contribute?\\nWhat percentage of employees was brought in by current employees?\\nHow important is it to work directly with your business users?\\n What elements are necessary for a successful team and why?\\nWhat percentage of your time do you spend unit testing?\\nWhat do you expect in the solution documents you are provided?\\nHow much reuse do you get out of the code that you develop, and how?\\nWhich do you prefer; service-oriented or batch-oriented solutions?\\nWhat technical websites do you follow?\\nTell me about some of the databases you have designed.\\nHow do you enforce relational integrity in database design?\\nWhen is it appropriate to de-normalize database design?\\nWhat is the difference between OLAP and OLTP? When is each used?\\nWhat automated-build tools or processes have you used?\\nWhat is the role of continuous integration systems in the automated-build process?\\nDescribe the difference between optimistic and pessimistic locking.\\nIn databases, what is the difference between a delete statement and a truncate statement?\\nWhat are transaction logs, and how are they used?\\nWhat are the most important database performance metrics, and how do you monitor them?\\nWhat is the role of SNMP?\\nWhat development tools have you used?\\nWhat languages have you programmed in?\\nWhat source control tools have you used?\\nescribe the elements of an in-tier architecture and their appropriate use.\\nCompare and contrast REST and SOAP web services.\\nDefine authentication and authorization and the tools that are used to support them in enterprise deployments.\\nHave you used Visual Studio?\\nHave you used Eclipse?\\nWhat is a SAN, and how is it used?\\nWhat is clustering, and describe its use?\\nWhat is the role of the DMZ in network architecture\\nWhat is a cross-site scripting attack, and how do you defend against it?\\nIn network security, what is a honeypot, and why is it used?\\nFrom the description of this position, what do you think you will be doing on a day-to-day basis?\\nWhat challenges do you think you might expect in this job if you were hired?\\nWhat would you do to ensure consistency across the unit, quality, and production environments?\\nYou have been asked to research a new business tool. You have come across two solutions. One is an on-premises solution, the other is cloud-based. Assuming they are functionally equivalent, would you recommend one over the other, and why?\\nWhat would you do to ensure you provided accurate project estimates?\\nYou have learned that a business unit is managing a major component of the business using Excel spreadsheets and Access databases. What risks does this present, and what would you recommend be done to mitigate those risks?\\nTell me about the most recent project you worked on. What were your responsibilities?\\nDescribe a time you were able to improve upon the design that was originally suggested.\\nTell me about the project you are most proud of, and what your contribution was.\\nDescribe your production deployment process.\\nGive an example of where you have applied your technical knowledge in a practical way.\\nHow did you manage source code?\\nWhat did you do to ensure quality in your deliverables?\\nWhen is the last time you downloaded a utility from the internet to make your work more productive, and what was it?\\nWhat are your technical certifications?\\nHow did your education prepare you for this job?\\nWhat do you do to maintain your technical certifications?\\nHow would you rate your key competencies for this job?\\nWhat are your IT strengths and weaknesses?\\n\\ufeffWhich programming languages do you prefer and why?\\nWhat is a class and a super class?\\nWhat’s the difference between Process and Thread?\\nWhat is a constructor?\\nWhat is a message?\\nWhat is an array?\\nWhat is a stream?\\nDescribe a singleton\\nWhat is an abstract class?\\nProvide some C source code\\nComparison between method and constructor\\nWhat are the steps for creating the object?\\nWhat is the difference between overloading and overriding?\\nWhat is the difference between an interface and an abstract class?\\nWhat javascript frameworks are you familiar with?\\nWhat do you know about the software development cycle?\\nWhat is the transport layer?\\nWhat is the application layer?\\nWhat is a file?\\nWhat is a class?\\nWhat is an object?\\nWhat is the different OOPS principle?\\nWhat is inheritance?\\nWhat is polymorphism?\\nWhat are instance and class variables?\\nCompare method and constructor?\\nWhat is a singleton class?\\nWhat are the steps for creating the object?\\nWhat is the different type of access modifiers?\\nWhich is the highest operator precedence in Java?\\nWhat is the difference between equals() and method and == operator?\\nIs string class final?\\nWhat is a wrapper class?\\nDifference between overloading and overriding?\\nWhat are multiple inheritances in Java?\\nWhat is a stream?\\nWhat is a Character stream?\\nWhat is a Byte stream?\\nWhat is an Interface?\\nDifference between class and interface?\\nWhat is an abstract class?\\nWhat is multiple inheritance? What are its advantages and disadvantages?\\nBriefly describe the correct usage of the following HTML5 semantic elements\\nWhat were some of the key goals and motivations for the HTML5 specification?\\nWhat are some of the key new features in HTML5?\\nWhat are some advantages of using Python over other programming languages?\\nExplain the difference between compile-time and runtime, then discuss how Python uses them during code checking.\\nWhat is a view and what are some advantages of it?\\nIs it possible to find a loop in a Linked list?\\nTwo linked lists L1 and L2 intersects at a particular node N1 and from there all other nodes till the end are common. The length of the lists are not same. What are the possibilities to find N1?\\nGiven a Binary Search Tree (BST), print its values in ascending order.\\nIs it possible to implement a queue using Linked List ? Enqueue & Dequeue should be O(1).\\nGiven a Tree, is it possible to find the greatest and least among leaves in linear time?\\nIs it possible to find the greatest and least value among the nodes in a given BST without using any extra variables?\\nIs it possible to implement 2 stack in an array?\\nGiven two keys K1 & K2, write an algorithm to print all the elements between them with K1<=K2 in a BST\\nHow many numbers of addresses are usable for addressing in a Class C network?\\nHow are the data units at Application layer is called?\\nWhat protocol is used by DNS name servers? Justify.\\nWhich of the following is used to direct a packet inside an internal network?\\nWhat is Acceptance Testing?\\nWhat’s the Software Testing?\\nWhat is Accessibility Testing?\\nWhat is Application Programming Interface (API)?\\nWhat is Ad Hoc Testing?\\nWhat is Beta Testing?\\nWhat is Backus-Naur Form?\\nWhat is Application Binary Interface (ABI)?\\nWhat is the difference between verification and validation?\\nWhat is Binary Portability Testing?\\nWhat is Bug?\\nWhat is Defect?\\nWhat is Branch Testing?\\nWhat is Breadth Testing?\\nWhat's the Alpha Testing?\\nWhat’s the Test Case?\\nWhat's the Beta Testing?\\nWhat is Component Testing?\\nWhat is End-to-End testing?\\nWhat is CAST?\\nWhat is CMM?\\nWhat is Compatibility Testing?\\nWhat is Debugging?\\nWhat is Dependency Testing?\\nWhat’s the Database testing?\\nWhat is the difference between interoperability and compatibility testing with some examples?\\nWhat’s the Traceability Matrix?\\nA document that showing the relationship between Test Requirements and Test Cases.\\nHow many types of approaches are used in Integration Testing?\\nThere are two types of approaches used:Bottom-Up, Top-Down.\\nWhat is Emulator?\\nA device, computer program, or system that accepts the same inputs and produces the same outputs as a given system.\\nWhat is Functional Decomposition?\\nA technique used during planning, analysis, and design; creates a functional hierarchy for the software.\\nWhat is Integration Testing?\\nTesting of combined parts of an application to determine if they function together correctly. Usually performed after unit and functional testing. This type of testing is especially relevant to client/server and distributed systems.\\nWhat is Metric?\\nA standard of measurement. Software metrics are the statistics describing the structure or content of a program. A metric should be a real objective measurement of something such as a number of bugs per lines of code.\\nWhat is Quality Assurance?\\nAll those planned or systematic actions necessary to provide adequate confidence that a product or service is of the type and quality needed and expected by the customer.\\nWhat is Race Condition?\\nA cause of concurrency problems. Multiple accesses to a shared resource, at least one of which is a write, with no mechanism used by either to moderate simultaneous access.\\nWhat is Scalability Testing?\\nPerformance testing focused on ensuring the application under test gracefully handles increases in workload.\\nWhat is Software Requirements Specification?\\nA deliverable that describes all data, functional and behavioral requirements, all constraints, and all validation requirements for software.\\nWhat is an operating system?\\nAn operating system is a program that acts as an intermediary between the user and the computer hardware. The purpose of an OS is to provide a convenient environment in which a user can execute programs in a convenient and efficient manner.\\nWhat are the different operating systems?\\nBatched operating systems\\nMulti-programmed operating systems\\ntimesharing operating systems\\nDistributed operating systems\\nReal-time operating systems\\nWhat are the basic functions of an operating system?\\nOperating system controls and coordinates the use of the hardware among the various applications programs for various uses. Operating system acts as resource allocator and manager. Also operating system is control program which controls the user programs to prevent errors and improper use of the computer. It is especially concerned with the operation and control of I/O devices.\\nWhat is a kernel?\\nThe kernel is the core and essential part of a computer operating system that provides basic services for all parts of OS.\\nWhat is the difference between microkernel and macro kernel?\\nThe microkernel is a kernel which run services those are minimal for operating system performance. In this kernel, all other operations are performed by the processor. Macro Kernel is a combination of micro and monolithic kernel. In monolithic kernel, all operating system code is in the single executable image.\\ufeffWhich programming languages do you prefer and why?\\nWhat is a class and a super class?\\nWhat’s the difference between Process and Thread?\\nWhat is a constructor?\\nWhat is a message?\\nWhat is an array?\\nWhat is a stream?\\nDescribe a singleton\\nWhat is an abstract class?\\nProvide some C source code\\nComparison between method and constructor\\nWhat are the steps for creating the object?\\nWhat is the difference between overloading and overriding?\\nWhat is the difference between an interface and an abstract class?\\nWhat javascript frameworks are you familiar with?\\nWhat do you know about the software development cycle?\\nWhat is the transport layer?\\nWhat is the application layer?\\nWhat is a file?\\nWhat is a class?\\nWhat is an object?\\nWhat is the different OOPS principle?\\nWhat is inheritance?\\nWhat is polymorphism?\\nWhat are instance and class variables?\\nCompare method and constructor?\\nWhat is a singleton class?\\nWhat are the steps for creating the object?\\nWhat is the different type of access modifiers?\\nWhich is the highest operator precedence in Java?\\nWhat is the difference between equals() and method and == operator?\\nIs string class final?\\nWhat is a wrapper class?\\nDifference between overloading and overriding?\\nWhat are multiple inheritances in Java?\\nWhat is a stream?\\nWhat is a Character stream?\\nWhat is a Byte stream?\\nWhat is an Interface?\\nDifference between class and interface?\\nWhat is an abstract class?\\nWhat is multiple inheritance? What are its advantages and disadvantages?\\nBriefly describe the correct usage of the following HTML5 semantic elements\\nWhat were some of the key goals and motivations for the HTML5 specification?\\nWhat are some of the key new features in HTML5?\\nWhat are some advantages of using Python over other programming languages?\\nExplain the difference between compile-time and runtime, then discuss how Python uses them during code checking.\\nWhat is a view and what are some advantages of it?\\nIs it possible to find a loop in a Linked list?\\nTwo linked lists L1 and L2 intersects at a particular node N1 and from there all other nodes till the end are common. The length of the lists are not same. What are the possibilities to find N1?\\nGiven a Binary Search Tree (BST), print its values in ascending order.\\nIs it possible to implement a queue using Linked List ? Enqueue & Dequeue should be O(1).\\nGiven a Tree, is it possible to find the greatest and least among leaves in linear time?\\nIs it possible to find the greatest and least value among the nodes in a given BST without using any extra variables?\\nIs it possible to implement 2 stack in an array?\\nGiven two keys K1 & K2, write an algorithm to print all the elements between them with K1<=K2 in a BST\\nHow many numbers of addresses are usable for addressing in a Class C network?\\nHow are the data units at Application layer is called?\\nWhat protocol is used by DNS name servers? Justify.\\nWhich of the following is used to direct a packet inside an internal network?\\nWhat is Acceptance Testing?\\nWhat’s the Software Testing?\\nWhat is Accessibility Testing?\\nWhat is Application Programming Interface (API)?\\nWhat is Ad Hoc Testing?\\nWhat is Beta Testing?\\nWhat is Backus-Naur Form?\\nWhat is Application Binary Interface (ABI)?\\nWhat is the difference between verification and validation?\\nWhat is Binary Portability Testing?\\nWhat is Bug?\\nWhat is Defect?\\nWhat is Branch Testing?\\nWhat is Breadth Testing?\\nWhat's the Alpha Testing?\\nWhat’s the Test Case?\\nWhat's the Beta Testing?\\nWhat is Component Testing?\\nWhat is End-to-End testing?\\nWhat is CAST?\\nWhat is CMM?\\nWhat is Compatibility Testing?\\nWhat is Debugging?\\nWhat is Dependency Testing?\\nWhat’s the Database testing?\\nWhat is the difference between interoperability and compatibility testing with some examples?\\nWhat’s the Traceability Matrix?\\nA document that showing the relationship between Test Requirements and Test Cases.\\nHow many types of approaches are used in Integration Testing?\\nThere are two types of approaches used:Bottom-Up, Top-Down.\\nWhat is Emulator?\\nA device, computer program, or system that accepts the same inputs and produces the same outputs as a given system.\\nWhat is Functional Decomposition?\\nA technique used during planning, analysis, and design; creates a functional hierarchy for the software.\\nWhat is Integration Testing?\\nTesting of combined parts of an application to determine if they function together correctly. Usually performed after unit and functional testing. This type of testing is especially relevant to client/server and distributed systems.\\nWhat is Metric?\\nA standard of measurement. Software metrics are the statistics describing the structure or content of a program. A metric should be a real objective measurement of something such as a number of bugs per lines of code.\\nWhat is Quality Assurance?\\nAll those planned or systematic actions necessary to provide adequate confidence that a product or service is of the type and quality needed and expected by the customer.\\nWhat is Race Condition?\\nA cause of concurrency problems. Multiple accesses to a shared resource, at least one of which is a write, with no mechanism used by either to moderate simultaneous access.\\nWhat is Scalability Testing?\\nPerformance testing focused on ensuring the application under test gracefully handles increases in workload.\\nWhat is Software Requirements Specification?\\nA deliverable that describes all data, functional and behavioral requirements, all constraints, and all validation requirements for software.\\nWhat is an operating system?\\nAn operating system is a program that acts as an intermediary between the user and the computer hardware. The purpose of an OS is to provide a convenient environment in which a user can execute programs in a convenient and efficient manner.\\nWhat are the different operating systems?\\nBatched operating systems\\nMulti-programmed operating systems\\ntimesharing operating systems\\nDistributed operating systems\\nReal-time operating systems\\nWhat are the basic functions of an operating system?\\nOperating system controls and coordinates the use of the hardware among the various applications programs for various uses. Operating system acts as resource allocator and manager. Also operating system is control program which controls the user programs to prevent errors and improper use of the computer. It is especially concerned with the operation and control of I/O devices.\\nWhat is a kernel?\\nThe kernel is the core and essential part of a computer operating system that provides basic services for all parts of OS.\\nWhat is the difference between microkernel and macro kernel?\\nThe microkernel is a kernel which run services those are minimal for operating system performance. In this kernel, all other operations are performed by the processor. Macro Kernel is a combination of micro and monolithic kernel. In monolithic kernel, all operating system code is in the single executable image.\""
            ]
          },
          "metadata": {
            "tags": []
          },
          "execution_count": 12
        }
      ]
    },
    {
      "cell_type": "code",
      "metadata": {
        "id": "K9oSpuDO6hbm",
        "colab_type": "code",
        "colab": {}
      },
      "source": [
        "train_sentences = nltk.tokenize.sent_tokenize(train_data)\n",
        "test_sentences = nltk.tokenize.sent_tokenize(test_data)\n",
        "data_sentences = nltk.tokenize.sent_tokenize(data)\n",
        "\n",
        "train_sentences\n",
        "test_sentences"
      ],
      "execution_count": 0,
      "outputs": []
    },
    {
      "cell_type": "code",
      "metadata": {
        "id": "gWrjBqWLdz0z",
        "colab_type": "code",
        "outputId": "b595424f-68e9-4645-c157-47bfd23a771a",
        "colab": {
          "base_uri": "https://localhost:8080/",
          "height": 36
        }
      },
      "source": [
        "'''train_dict = {}\n",
        "index = 0\n",
        "for each in train_corpus:\n",
        "  if each not in train_dict:\n",
        "    train_dict[each]=index\n",
        "    index += 1\n",
        "print(train_dict)'''"
      ],
      "execution_count": 0,
      "outputs": [
        {
          "output_type": "execute_result",
          "data": {
            "text/plain": [
              "'train_dict = {}\\nindex = 0\\nfor each in train_corpus:\\n  if each not in train_dict:\\n    train_dict[each]=index\\n    index += 1\\nprint(train_dict)'"
            ]
          },
          "metadata": {
            "tags": []
          },
          "execution_count": 14
        }
      ]
    },
    {
      "cell_type": "code",
      "metadata": {
        "id": "ykzqg0rtcGU0",
        "colab_type": "code",
        "colab": {}
      },
      "source": [
        "'''test_dict = {}\n",
        "index = 0\n",
        "for each in test_corpus:\n",
        "  if each not in test_dict:\n",
        "    test_dict[each]=index\n",
        "    index += 1\n",
        "print(test_dict)'''"
      ],
      "execution_count": 0,
      "outputs": []
    },
    {
      "cell_type": "code",
      "metadata": {
        "id": "SeMkkFvthxtR",
        "colab_type": "code",
        "colab": {}
      },
      "source": [
        "vocab_size = 2000 #tokenize most common 2000 words\n",
        "embedding_dim = 32\n",
        "max_length = 120\n",
        "trunc_type = 'post'\n",
        "padding_type='post'\n",
        "oov_tok = \"<OOV>\" #missing words\n",
        "training_size = 20000"
      ],
      "execution_count": 0,
      "outputs": []
    },
    {
      "cell_type": "code",
      "metadata": {
        "id": "CPkLL0xchSG1",
        "colab_type": "code",
        "outputId": "a82ace6f-9692-4624-99e2-c05bbf648c8f",
        "colab": {
          "base_uri": "https://localhost:8080/",
          "height": 224
        }
      },
      "source": [
        "tokenizer = Tokenizer(num_words = vocab_size, oov_token = oov_tok)\n",
        "tokenizer.fit_on_texts(train_sentences) #fit_on_tests: encode\n",
        "train_word_index = tokenizer.word_index #word_index: return dict(key:word; value:label)\n",
        "train_labels = list(train_word_index.keys())\n",
        "train_sequences = tokenizer.texts_to_sequences(train_sentences)\n",
        "train_padded = pad_sequences(train_sequences, padding= padding_type, truncating=trunc_type, maxlen=max_length) #長度超過此數字的序列尾巴會被刪掉；而針對原來長度不足的序列，，我們則會在詞彙前面補零\n",
        "print(train_word_index)\n",
        "print(train_labels)\n",
        "print(train_sequences)\n",
        "print(train_padded)"
      ],
      "execution_count": 0,
      "outputs": [
        {
          "output_type": "stream",
          "text": [
            "{'<OOV>': 1, 'what': 2, 'you': 3, 'the': 4, 'is': 5, 'and': 6, 'a': 7, 'of': 8, 'your': 9, 'to': 10, 'in': 11, 'do': 12, 'are': 13, 'how': 14, 'for': 15, 'would': 16, 'testing': 17, 'an': 18, 'it': 19, 'about': 20, 'between': 21, 'me': 22, 'this': 23, 'have': 24, 'that': 25, 'used': 26, 'was': 27, 'if': 28, 'difference': 29, 'operating': 30, 'job': 31, 'did': 32, 'last': 33, 'were': 34, 'time': 35, 'with': 36, 'describe': 37, 'or': 38, 'class': 39, 'why': 40, 'system': 41, 'tell': 42, 'be': 43, 'most': 44, 'all': 45, \"what's\": 46, 'systems': 47, 'kernel': 48, 'from': 49, 'work': 50, 'which': 51, 'some': 52, 'yourself': 53, 'when': 54, 'other': 55, 'give': 56, 'on': 57, 'who': 58, 'by': 59, 'them': 60, 'use': 61, 'code': 62, 'software': 63, 'application': 64, 'where': 65, 'like': 66, 'can': 67, 'at': 68, 'handle': 69, 'had': 70, 'greatest': 71, 'i': 72, 'business': 73, 'two': 74, 'tools': 75, 'one': 76, 'think': 77, 'three': 78, 'as': 79, 'what’s': 80, 'interface': 81, 'possible': 82, 'given': 83, 'want': 84, 'career': 85, 'company': 86, 'should': 87, 'least': 88, 'position': 89, 'know': 90, 'project': 91, 'its': 92, 'someone': 93, 'difficult': 94, 'something': 95, 'they': 96, 'decision': 97, 'multiple': 98, 'end': 99, 'there': 100, 'no': 101, 'salary': 102, 'year': 103, 'provide': 104, 'first': 105, 'character': 106, 'traits': 107, 'expect': 108, 'role': 109, 'elements': 110, 'unit': 111, 'technical': 112, 'database': 113, 'design': 114, 'network': 115, 'quality': 116, 'using': 117, 'stream': 118, 'find': 119, 'test': 120, 'requirements': 121, 'computer': 122, 'program': 123, 'functional': 124, 'present': 125, 'example': 126, 'team': 127, 'working': 128, 'doing': 129, \"you've\": 130, 'day': 131, 'write': 132, 'say': 133, 'development': 134, 'kind': 135, 'goals': 136, 'will': 137, 'make': 138, 'days': 139, 'person': 140, 'oriented': 141, 'boss': 142, 'statement': 143, 'thing': 144, 'list': 145, 'important': 146, 'leader': 147, 'databases': 148, 'integration': 149, 'process': 150, 'performance': 151, 'languages': 152, 'source': 153, 'control': 154, 'services': 155, 'ensure': 156, 'access': 157, 'those': 158, 'key': 159, 'programming': 160, 'constructor': 161, 'abstract': 162, 'method': 163, 'object': 164, 'layer': 165, 'different': 166, 'type': 167, 'advantages': 168, 'html5': 169, 'linked': 170, 'same': 171, 'binary': 172, 'bst': 173, 'among': 174, 'user': 175, 'programs': 176, 'strengths': 177, 'weaknesses': 178, 'five': 179, 'years': 180, 'now': 181, 'ideal': 182, 'we': 183, 'responsibilities': 184, 'any': 185, 'questions': 186, 'been': 187, 'not': 188, 'their': 189, 'supervisor': 190, 'asked': 191, 'disagreed': 192, 'deal': 193, 'wrong': 194, 'brought': 195, 'done': 196, 'out': 197, 'against': 198, 'made': 199, 'come': 200, 'finish': 201, 'way': 202, 'could': 203, 'but': 204, 'description': 205, 'next': 206, 'terms': 207, 'improve': 208, 'contribution': 209, '90': 210, 'style': 211, 'environment': 212, 'look': 213, 'examples': 214, 'choose': 215, 'achievement': 216, 'favorite': 217, 'manager': 218, 'really': 219, 'best': 220, 'proud': 221, 'positive': 222, 'learned': 223, 'major': 224, 'good': 225, 'feel': 226, 'answer': 227, 'rate': 228, 'right': 229, 'months': 230, 'top': 231, 'common': 232, 'highest': 233, 'percentage': 234, 'employees': 235, 'necessary': 236, 'solution': 237, 'provided': 238, 'prefer': 239, 'service': 240, 'solutions': 241, 'appropriate': 242, 'automated': 243, 'build': 244, 'metrics': 245, 'programmed': 246, 'architecture': 247, 'compare': 248, 'across': 249, 'production': 250, 'new': 251, 'recommend': 252, 'over': 253, 'component': 254, 'risks': 255, 'certifications': 256, 'array': 257, 'singleton': 258, 'c': 259, 'steps': 260, 'creating': 261, 'overloading': 262, 'overriding': 263, 'inheritance': 264, 'variables': 265, 'operator': 266, 'java': 267, 'following': 268, 'specification': 269, 'python': 270, 'uses': 271, 'during': 272, 'lists': 273, 'n1': 274, 'nodes': 275, 'tree': 276, 'print': 277, 'implement': 278, 'o': 279, 'k1': 280, 'k2': 281, 'many': 282, 'data': 283, 'beta': 284, 'validation': 285, 'compatibility': 286, 'types': 287, 'approaches': 288, 'parts': 289, 'performed': 290, 'especially': 291, 'distributed': 292, 'metric': 293, 'measurement': 294, 'real': 295, 'resource': 296, 'acts': 297, 'hardware': 298, 'os': 299, 'convenient': 300, 'basic': 301, 'controls': 302, 'various': 303, 'microkernel': 304, 'macro': 305, 'monolithic': 306, '\\ufefftell': 307, 'attracted': 308, 'hire': 309, 'satisfied': 310, 'us': 311, 'candidates': 312, \"can't\": 313, 'leaving': 314, 'industry': 315, 'our': 316, 'willing': 317, 'relocate': 318, 'led': 319, 'outcome': 320, 'felt': 321, 'went': 322, 'above': 323, 'beyond': 324, 'call': 325, 'duty': 326, 'criticized': 327, 'ever': 328, 'pulling': 329, 'own': 330, 'weight': 331, 'feedback': 332, 'failure': 333, 'learn': 334, 'people': 335, 'annoy': 336, 'period': 337, 'life': 338, 'conflict': 339, 'lunch': 340, 'ordered': 341, 'rare': 342, 'steak': 343, 'well': 344, 'found': 345, 'law': 346, 'fraud': 347, 'assignment': 348, 'too': 349, 'resolve': 350, 'issue': 351, 'situation': 352, 'required': 353, 'tasks': 354, 'conceivable': 355, 'seeking': 356, 'history': 357, 'requested': 358, 'let': 359, 'looking': 360, 'mind': 361, 'got': 362, 'ask': 363, 'additional': 364, 'training': 365, 'exposure': 366, 'she': 367, 'suggest': 368, 'go': 369, 'establishing': 370, 'credibility': 371, 'quickly': 372, 'long': 373, 'take': 374, 'significant': 375, 'see': 376, 'within': 377, '30': 378, 'selected': 379, 'strategy': 380, 'culture—structured': 381, 'entrepreneurial': 382, 'ideas': 383, 'implemented': 384, 'techniques': 385, 'keep': 386, 'organized': 387, 'consider': 388, 'big': 389, 'picture': 390, 'detail': 391, 'proudest': 392, 'previous': 393, 'personality': 394, 'lifelong': 395, 'dreams': 396, 'ultimately': 397, 'become': 398, 'personal': 399, 'mission': 400, 'things': 401, 'negative': 402, 'friends': 403, \"don't\": 404, 'interviewing': 405, 'words': 406, 'has': 407, 'impacted': 408, 'fear': 409, 'biggest': 410, 'regret': 411, 'school': 412, 'miss': 413, 'outside': 414, 'qualities': 415, 'bad': 416, 'feared': 417, 'liked': 418, 'taking': 419, 'knows': 420, 'less': 421, 'than': 422, 'interviewer': 423, \"wouldn't\": 424, 'exceptional': 425, 'car': 426, 'drive': 427, \"there's\": 428, 'anywhere': 429, 'world': 430, 'book': 431, 'read': 432, 'magazines': 433, 'subscribe': 434, 'movie': 435, 'seen': 436, 'won': 437, 'lottery': 438, 'heroes': 439, 'fun': 440, 'spare': 441, 'memory': 442, 'childhood': 443, 'toughest': 444, 'six': 445, 'leadership': 446, 'accomplish': 447, 'rank': 448, 'performers': 449, 'drives': 450, 'results': 451, \"company's\": 452, 'priority': 453, 'my': 454, 'contribute': 455, 'current': 456, 'directly': 457, 'users': 458, 'successful': 459, 'spend': 460, 'documents': 461, 'much': 462, 'reuse': 463, 'get': 464, 'develop': 465, 'batch': 466, 'websites': 467, 'follow': 468, 'designed': 469, 'enforce': 470, 'relational': 471, 'integrity': 472, 'de': 473, 'normalize': 474, 'olap': 475, 'oltp': 476, 'each': 477, 'processes': 478, 'continuous': 479, 'optimistic': 480, 'pessimistic': 481, 'locking': 482, 'delete': 483, 'truncate': 484, 'transaction': 485, 'logs': 486, 'monitor': 487, 'snmp': 488, 'escribe': 489, 'tier': 490, 'contrast': 491, 'rest': 492, 'soap': 493, 'web': 494, 'define': 495, 'authentication': 496, 'authorization': 497, 'support': 498, 'enterprise': 499, 'deployments': 500, 'visual': 501, 'studio': 502, 'eclipse': 503, 'san': 504, 'clustering': 505, 'dmz': 506, 'cross': 507, 'site': 508, 'scripting': 509, 'attack': 510, 'defend': 511, 'security': 512, 'honeypot': 513, 'basis': 514, 'challenges': 515, 'might': 516, 'hired': 517, 'consistency': 518, 'environments': 519, 'research': 520, 'tool': 521, 'premises': 522, 'cloud': 523, 'based': 524, 'assuming': 525, 'functionally': 526, 'equivalent': 527, 'accurate': 528, 'estimates': 529, 'managing': 530, 'excel': 531, 'spreadsheets': 532, 'does': 533, 'mitigate': 534, 'recent': 535, 'worked': 536, 'able': 537, 'upon': 538, 'originally': 539, 'suggested': 540, 'deployment': 541, 'applied': 542, 'knowledge': 543, 'practical': 544, 'manage': 545, 'deliverables': 546, 'downloaded': 547, 'utility': 548, 'internet': 549, 'more': 550, 'productive': 551, 'education': 552, 'prepare': 553, 'maintain': 554, 'competencies': 555, '\\ufeffwhich': 556, 'super': 557, 'thread': 558, 'message': 559, 'comparison': 560, 'javascript': 561, 'frameworks': 562, 'familiar': 563, 'cycle': 564, 'transport': 565, 'file': 566, 'oops': 567, 'principle': 568, 'polymorphism': 569, 'instance': 570, 'modifiers': 571, 'precedence': 572, 'equals': 573, 'string': 574, 'final': 575, 'wrapper': 576, 'inheritances': 577, 'byte': 578, 'disadvantages': 579, 'briefly': 580, 'correct': 581, 'usage': 582, 'semantic': 583, 'motivations': 584, 'features': 585, 'explain': 586, 'compile': 587, 'runtime': 588, 'then': 589, 'discuss': 590, 'checking': 591, 'view': 592, 'loop': 593, 'l1': 594, 'l2': 595, 'intersects': 596, 'particular': 597, 'node': 598, 'till': 599, 'length': 600, 'possibilities': 601, 'search': 602, 'values': 603, 'ascending': 604, 'order': 605, 'queue': 606, 'enqueue': 607, 'dequeue': 608, '1': 609, 'leaves': 610, 'linear': 611, 'value': 612, 'without': 613, 'extra': 614, '2': 615, 'stack': 616, 'keys': 617, 'algorithm': 618, 'numbers': 619, 'addresses': 620, 'usable': 621, 'addressing': 622, 'units': 623, 'called': 624, 'protocol': 625, 'dns': 626, 'name': 627, 'servers': 628, 'justify': 629, 'direct': 630, 'packet': 631, 'inside': 632, 'internal': 633, 'acceptance': 634, 'accessibility': 635, 'api': 636, 'ad': 637, 'hoc': 638, 'backus': 639, 'naur': 640, 'form': 641, 'abi': 642, 'verification': 643, 'portability': 644, 'bug': 645, 'defect': 646, 'branch': 647, 'breadth': 648, 'alpha': 649, 'case': 650, 'cast': 651, 'cmm': 652, 'debugging': 653, 'dependency': 654, 'interoperability': 655, 'traceability': 656, 'matrix': 657, 'document': 658, 'showing': 659, 'relationship': 660, 'cases': 661, 'bottom': 662, 'up': 663, 'down': 664, 'emulator': 665, 'device': 666, 'accepts': 667, 'inputs': 668, 'produces': 669, 'outputs': 670, 'decomposition': 671, 'technique': 672, 'planning': 673, 'analysis': 674, 'creates': 675, 'hierarchy': 676, 'combined': 677, 'determine': 678, 'function': 679, 'together': 680, 'correctly': 681, 'usually': 682, 'after': 683, 'relevant': 684, 'client': 685, 'server': 686, 'standard': 687, 'statistics': 688, 'describing': 689, 'structure': 690, 'content': 691, 'objective': 692, 'such': 693, 'number': 694, 'bugs': 695, 'per': 696, 'lines': 697, 'assurance': 698, 'planned': 699, 'systematic': 700, 'actions': 701, 'adequate': 702, 'confidence': 703, 'product': 704, 'needed': 705, 'expected': 706, 'customer': 707, 'race': 708, 'condition': 709, 'cause': 710, 'concurrency': 711, 'problems': 712, 'accesses': 713, 'shared': 714, 'mechanism': 715, 'either': 716, 'moderate': 717, 'simultaneous': 718, 'scalability': 719, 'focused': 720, 'ensuring': 721, 'under': 722, 'gracefully': 723, 'handles': 724, 'increases': 725, 'workload': 726, 'deliverable': 727, 'describes': 728, 'behavioral': 729, 'constraints': 730, 'intermediary': 731, 'purpose': 732, 'execute': 733, 'efficient': 734, 'manner': 735, 'batched': 736, 'multi': 737, 'timesharing': 738, 'functions': 739, 'coordinates': 740, 'applications': 741, 'allocator': 742, 'also': 743, 'prevent': 744, 'errors': 745, 'improper': 746, 'concerned': 747, 'operation': 748, 'devices': 749, 'core': 750, 'essential': 751, 'part': 752, 'provides': 753, 'run': 754, 'minimal': 755, 'operations': 756, 'processor': 757, 'combination': 758, 'micro': 759, 'single': 760, 'executable': 761, 'image': 762}\n",
            "['<OOV>', 'what', 'you', 'the', 'is', 'and', 'a', 'of', 'your', 'to', 'in', 'do', 'are', 'how', 'for', 'would', 'testing', 'an', 'it', 'about', 'between', 'me', 'this', 'have', 'that', 'used', 'was', 'if', 'difference', 'operating', 'job', 'did', 'last', 'were', 'time', 'with', 'describe', 'or', 'class', 'why', 'system', 'tell', 'be', 'most', 'all', \"what's\", 'systems', 'kernel', 'from', 'work', 'which', 'some', 'yourself', 'when', 'other', 'give', 'on', 'who', 'by', 'them', 'use', 'code', 'software', 'application', 'where', 'like', 'can', 'at', 'handle', 'had', 'greatest', 'i', 'business', 'two', 'tools', 'one', 'think', 'three', 'as', 'what’s', 'interface', 'possible', 'given', 'want', 'career', 'company', 'should', 'least', 'position', 'know', 'project', 'its', 'someone', 'difficult', 'something', 'they', 'decision', 'multiple', 'end', 'there', 'no', 'salary', 'year', 'provide', 'first', 'character', 'traits', 'expect', 'role', 'elements', 'unit', 'technical', 'database', 'design', 'network', 'quality', 'using', 'stream', 'find', 'test', 'requirements', 'computer', 'program', 'functional', 'present', 'example', 'team', 'working', 'doing', \"you've\", 'day', 'write', 'say', 'development', 'kind', 'goals', 'will', 'make', 'days', 'person', 'oriented', 'boss', 'statement', 'thing', 'list', 'important', 'leader', 'databases', 'integration', 'process', 'performance', 'languages', 'source', 'control', 'services', 'ensure', 'access', 'those', 'key', 'programming', 'constructor', 'abstract', 'method', 'object', 'layer', 'different', 'type', 'advantages', 'html5', 'linked', 'same', 'binary', 'bst', 'among', 'user', 'programs', 'strengths', 'weaknesses', 'five', 'years', 'now', 'ideal', 'we', 'responsibilities', 'any', 'questions', 'been', 'not', 'their', 'supervisor', 'asked', 'disagreed', 'deal', 'wrong', 'brought', 'done', 'out', 'against', 'made', 'come', 'finish', 'way', 'could', 'but', 'description', 'next', 'terms', 'improve', 'contribution', '90', 'style', 'environment', 'look', 'examples', 'choose', 'achievement', 'favorite', 'manager', 'really', 'best', 'proud', 'positive', 'learned', 'major', 'good', 'feel', 'answer', 'rate', 'right', 'months', 'top', 'common', 'highest', 'percentage', 'employees', 'necessary', 'solution', 'provided', 'prefer', 'service', 'solutions', 'appropriate', 'automated', 'build', 'metrics', 'programmed', 'architecture', 'compare', 'across', 'production', 'new', 'recommend', 'over', 'component', 'risks', 'certifications', 'array', 'singleton', 'c', 'steps', 'creating', 'overloading', 'overriding', 'inheritance', 'variables', 'operator', 'java', 'following', 'specification', 'python', 'uses', 'during', 'lists', 'n1', 'nodes', 'tree', 'print', 'implement', 'o', 'k1', 'k2', 'many', 'data', 'beta', 'validation', 'compatibility', 'types', 'approaches', 'parts', 'performed', 'especially', 'distributed', 'metric', 'measurement', 'real', 'resource', 'acts', 'hardware', 'os', 'convenient', 'basic', 'controls', 'various', 'microkernel', 'macro', 'monolithic', '\\ufefftell', 'attracted', 'hire', 'satisfied', 'us', 'candidates', \"can't\", 'leaving', 'industry', 'our', 'willing', 'relocate', 'led', 'outcome', 'felt', 'went', 'above', 'beyond', 'call', 'duty', 'criticized', 'ever', 'pulling', 'own', 'weight', 'feedback', 'failure', 'learn', 'people', 'annoy', 'period', 'life', 'conflict', 'lunch', 'ordered', 'rare', 'steak', 'well', 'found', 'law', 'fraud', 'assignment', 'too', 'resolve', 'issue', 'situation', 'required', 'tasks', 'conceivable', 'seeking', 'history', 'requested', 'let', 'looking', 'mind', 'got', 'ask', 'additional', 'training', 'exposure', 'she', 'suggest', 'go', 'establishing', 'credibility', 'quickly', 'long', 'take', 'significant', 'see', 'within', '30', 'selected', 'strategy', 'culture—structured', 'entrepreneurial', 'ideas', 'implemented', 'techniques', 'keep', 'organized', 'consider', 'big', 'picture', 'detail', 'proudest', 'previous', 'personality', 'lifelong', 'dreams', 'ultimately', 'become', 'personal', 'mission', 'things', 'negative', 'friends', \"don't\", 'interviewing', 'words', 'has', 'impacted', 'fear', 'biggest', 'regret', 'school', 'miss', 'outside', 'qualities', 'bad', 'feared', 'liked', 'taking', 'knows', 'less', 'than', 'interviewer', \"wouldn't\", 'exceptional', 'car', 'drive', \"there's\", 'anywhere', 'world', 'book', 'read', 'magazines', 'subscribe', 'movie', 'seen', 'won', 'lottery', 'heroes', 'fun', 'spare', 'memory', 'childhood', 'toughest', 'six', 'leadership', 'accomplish', 'rank', 'performers', 'drives', 'results', \"company's\", 'priority', 'my', 'contribute', 'current', 'directly', 'users', 'successful', 'spend', 'documents', 'much', 'reuse', 'get', 'develop', 'batch', 'websites', 'follow', 'designed', 'enforce', 'relational', 'integrity', 'de', 'normalize', 'olap', 'oltp', 'each', 'processes', 'continuous', 'optimistic', 'pessimistic', 'locking', 'delete', 'truncate', 'transaction', 'logs', 'monitor', 'snmp', 'escribe', 'tier', 'contrast', 'rest', 'soap', 'web', 'define', 'authentication', 'authorization', 'support', 'enterprise', 'deployments', 'visual', 'studio', 'eclipse', 'san', 'clustering', 'dmz', 'cross', 'site', 'scripting', 'attack', 'defend', 'security', 'honeypot', 'basis', 'challenges', 'might', 'hired', 'consistency', 'environments', 'research', 'tool', 'premises', 'cloud', 'based', 'assuming', 'functionally', 'equivalent', 'accurate', 'estimates', 'managing', 'excel', 'spreadsheets', 'does', 'mitigate', 'recent', 'worked', 'able', 'upon', 'originally', 'suggested', 'deployment', 'applied', 'knowledge', 'practical', 'manage', 'deliverables', 'downloaded', 'utility', 'internet', 'more', 'productive', 'education', 'prepare', 'maintain', 'competencies', '\\ufeffwhich', 'super', 'thread', 'message', 'comparison', 'javascript', 'frameworks', 'familiar', 'cycle', 'transport', 'file', 'oops', 'principle', 'polymorphism', 'instance', 'modifiers', 'precedence', 'equals', 'string', 'final', 'wrapper', 'inheritances', 'byte', 'disadvantages', 'briefly', 'correct', 'usage', 'semantic', 'motivations', 'features', 'explain', 'compile', 'runtime', 'then', 'discuss', 'checking', 'view', 'loop', 'l1', 'l2', 'intersects', 'particular', 'node', 'till', 'length', 'possibilities', 'search', 'values', 'ascending', 'order', 'queue', 'enqueue', 'dequeue', '1', 'leaves', 'linear', 'value', 'without', 'extra', '2', 'stack', 'keys', 'algorithm', 'numbers', 'addresses', 'usable', 'addressing', 'units', 'called', 'protocol', 'dns', 'name', 'servers', 'justify', 'direct', 'packet', 'inside', 'internal', 'acceptance', 'accessibility', 'api', 'ad', 'hoc', 'backus', 'naur', 'form', 'abi', 'verification', 'portability', 'bug', 'defect', 'branch', 'breadth', 'alpha', 'case', 'cast', 'cmm', 'debugging', 'dependency', 'interoperability', 'traceability', 'matrix', 'document', 'showing', 'relationship', 'cases', 'bottom', 'up', 'down', 'emulator', 'device', 'accepts', 'inputs', 'produces', 'outputs', 'decomposition', 'technique', 'planning', 'analysis', 'creates', 'hierarchy', 'combined', 'determine', 'function', 'together', 'correctly', 'usually', 'after', 'relevant', 'client', 'server', 'standard', 'statistics', 'describing', 'structure', 'content', 'objective', 'such', 'number', 'bugs', 'per', 'lines', 'assurance', 'planned', 'systematic', 'actions', 'adequate', 'confidence', 'product', 'needed', 'expected', 'customer', 'race', 'condition', 'cause', 'concurrency', 'problems', 'accesses', 'shared', 'mechanism', 'either', 'moderate', 'simultaneous', 'scalability', 'focused', 'ensuring', 'under', 'gracefully', 'handles', 'increases', 'workload', 'deliverable', 'describes', 'behavioral', 'constraints', 'intermediary', 'purpose', 'execute', 'efficient', 'manner', 'batched', 'multi', 'timesharing', 'functions', 'coordinates', 'applications', 'allocator', 'also', 'prevent', 'errors', 'improper', 'concerned', 'operation', 'devices', 'core', 'essential', 'part', 'provides', 'run', 'minimal', 'operations', 'processor', 'combination', 'micro', 'single', 'executable', 'image']\n",
            "[[307, 22, 20, 53], [2, 13, 9, 177], [2, 13, 9, 178], [40, 12, 3, 84, 23, 31], [65, 16, 3, 66, 10, 43, 11, 9, 85, 179, 180, 49, 181], [46, 9, 182, 86], [2, 308, 3, 10, 23, 86], [40, 87, 183, 309, 3], [2, 32, 3, 66, 88, 20, 9, 33, 31], [54, 34, 3, 44, 310, 11, 9, 31], [2, 67, 3, 12, 15, 311, 25, 55, 312, 313], [2, 34, 4, 184, 8, 9, 33, 89], [40, 13, 3, 314, 9, 125, 31], [2, 12, 3, 90, 20, 23, 315], [2, 12, 3, 90, 20, 316, 86], [13, 3, 317, 10, 318], [12, 3, 24, 185, 186, 15, 22], [2, 27, 4, 33, 91, 3, 319, 6, 2, 27, 92, 320], [56, 22, 18, 126, 8, 7, 35, 25, 3, 321, 3, 322, 323, 6, 324, 4, 325, 8, 326, 68, 50], [67, 3, 37, 7, 35, 54, 9, 50, 27, 327], [24, 3, 328, 187, 57, 7, 127, 65, 93, 27, 188, 329, 189, 330, 331], [14, 32, 3, 69, 19], [42, 22, 20, 7, 35, 54, 3, 70, 10, 56, 93, 94, 332], [14, 32, 3, 69, 19], [2, 5, 9, 71, 333, 6, 2, 32, 3, 334, 49, 19], [14, 12, 3, 69, 128, 36, 335, 58, 336, 3], [28, 72, 34, 9, 190, 6, 191, 3, 10, 12, 95, 25, 3, 192, 36, 2, 16, 3, 12], [2, 27, 4, 44, 94, 337, 11, 9, 338, 6, 14, 32, 3, 193, 36, 19], [56, 22, 18, 126, 8, 7, 35, 3, 32, 95, 194], [14, 32, 3, 69, 19], [42, 22, 20, 7, 35, 65, 3, 70, 10, 193, 36, 339, 57, 4, 31], [28, 3, 34, 68, 7, 73, 340, 6, 3, 341, 7, 342, 343, 6, 96, 195, 19, 10, 3, 344, 196, 2, 16, 3, 12], [28, 3, 345, 197, 9, 86, 27, 129, 95, 198, 4, 346, 66, 347, 2, 16, 3, 12], [2, 348, 27, 349, 94, 15, 3, 6, 14, 32, 3, 350, 4, 351], [46, 4, 44, 94, 97, 130, 199, 11, 4, 33, 74, 180, 6, 14, 32, 3, 200, 10, 25, 97], [37, 14, 3, 16, 69, 7, 352, 28, 3, 34, 353, 10, 201, 98, 354, 59, 4, 99, 8, 4, 131, 6, 100, 27, 101, 355, 202, 25, 3, 203, 201, 60], [2, 102, 13, 3, 356], [46, 9, 102, 357], [28, 72, 34, 10, 56, 3, 23, 102, 3, 358, 204, 359, 3, 132, 9, 31, 205, 15, 4, 206, 103, 2, 16, 19, 133], [2, 13, 3, 360, 15, 11, 207, 8, 85, 134], [14, 12, 3, 84, 10, 208, 53, 11, 4, 206, 103], [2, 135, 8, 136, 16, 3, 24, 11, 361, 28, 3, 362, 23, 31], [28, 72, 34, 10, 363, 9, 33, 190, 10, 104, 3, 364, 365, 38, 366, 2, 16, 367, 368], [14, 16, 3, 369, 20, 370, 9, 371, 372, 36, 4, 127], [14, 373, 137, 19, 374, 15, 3, 10, 138, 7, 375, 209], [2, 12, 3, 376, 53, 129, 377, 4, 105, 378, 139, 8, 23, 31], [28, 379, 15, 23, 89, 67, 3, 37, 9, 380, 15, 4, 105, 210, 139], [14, 16, 3, 37, 9, 50, 211], [2, 16, 43, 9, 182, 128, 212], [2, 12, 3, 213, 15, 11, 207, 8, 381, 38, 382], [56, 214, 8, 383, 130, 70, 38, 384], [2, 385, 6, 75, 12, 3, 61, 10, 386, 53, 387], [28, 3, 70, 10, 215, 76, 16, 3, 388, 53, 7, 389, 390, 140, 38, 7, 391, 141, 140], [42, 22, 20, 9, 392, 216], [58, 27, 9, 217, 218, 6, 40], [2, 12, 3, 77, 8, 9, 393, 142], [27, 100, 7, 140, 11, 9, 85, 58, 219, 199, 7, 29], [2, 135, 8, 394, 12, 3, 50, 220, 36, 6, 40], [2, 13, 3, 44, 221, 8], [2, 12, 3, 66, 10, 12], [2, 13, 9, 395, 396], [2, 12, 3, 397, 84, 10, 398], [2, 5, 9, 399, 400, 143], [2, 13, 78, 222, 401, 9, 33, 142, 16, 133, 20, 3], [2, 402, 144, 16, 9, 33, 142, 133, 20, 3], [2, 78, 106, 107, 16, 9, 403, 61, 10, 37, 3], [2, 13, 78, 222, 106, 107, 3, 404, 24], [28, 3, 34, 405, 93, 15, 23, 89, 2, 107, 16, 3, 213, 15], [145, 179, 406, 25, 37, 9, 106], [58, 407, 408, 3, 44, 11, 9, 85, 6, 14], [2, 5, 9, 71, 409], [2, 5, 9, 410, 411, 6, 40], [46, 4, 44, 146, 144, 3, 223, 11, 412], [40, 32, 3, 215, 9, 224], [2, 137, 3, 413, 20, 9, 125, 33, 31], [2, 5, 9, 71, 216, 414, 8, 50], [2, 13, 4, 415, 8, 7, 225, 147], [7, 416, 147], [12, 3, 77, 7, 147, 87, 43, 417, 38, 418], [14, 12, 3, 226, 20, 419, 101, 15, 18, 227], [14, 16, 3, 226, 20, 128, 15, 93, 58, 420, 421, 422, 3], [14, 12, 3, 77, 72, 228, 79, 18, 423], [42, 22, 76, 144, 20, 53, 3, 424, 84, 22, 10, 90], [42, 22, 4, 29, 21, 225, 6, 425], [2, 135, 8, 426, 12, 3, 427], [428, 101, 229, 38, 194, 227, 204, 28, 3, 203, 43, 429, 11, 4, 430, 229, 181, 65, 16, 3, 43], [46, 4, 33, 431, 3, 432], [2, 433, 12, 3, 434, 10], [46, 4, 220, 435, 130, 436, 11, 4, 33, 103], [2, 16, 3, 12, 28, 3, 437, 4, 438], [58, 13, 9, 439], [2, 12, 3, 66, 10, 12, 15, 440], [2, 12, 3, 12, 11, 9, 441, 35], [2, 5, 9, 217, 442, 49, 443], [42, 22, 20, 4, 444, 97, 3, 70, 10, 138, 11, 4, 33, 445, 230], [2, 5, 9, 446, 211], [42, 22, 20, 7, 35, 3, 192, 36, 7, 97], [2, 32, 3, 12], [2, 67, 183, 108, 49, 3, 11, 9, 105, 78, 230], [2, 27, 9, 102, 11, 9, 33, 31], [2, 186, 12, 3, 24, 15, 22], [2, 12, 3, 108, 22, 10, 447, 11, 4, 105, 210, 139], [28, 3, 34, 10, 448, 60, 2, 13, 4, 78, 107, 9, 231, 449, 24, 11, 232], [2, 219, 450, 451, 11, 23, 31], [2, 13, 4, 452, 233, 453, 136, 23, 103, 6, 14, 16, 454, 109, 455], [2, 234, 8, 235, 27, 195, 11, 59, 456, 235], [14, 146, 5, 19, 10, 50, 457, 36, 9, 73, 458], [2, 110, 13, 236, 15, 7, 459, 127, 6, 40], [2, 234, 8, 9, 35, 12, 3, 460, 111, 17], [2, 12, 3, 108, 11, 4, 237, 461, 3, 13, 238], [14, 462, 463, 12, 3, 464, 197, 8, 4, 62, 25, 3, 465, 6, 14], [51, 12, 3, 239, 240, 141, 38, 466, 141, 241], [2, 112, 467, 12, 3, 468], [42, 22, 20, 52, 8, 4, 148, 3, 24, 469], [14, 12, 3, 470, 471, 472, 11, 113, 114], [54, 5, 19, 242, 10, 473, 474, 113, 114], [2, 5, 4, 29, 21, 475, 6, 476], [54, 5, 477, 26], [2, 243, 244, 75, 38, 478, 24, 3, 26], [2, 5, 4, 109, 8, 479, 149, 47, 11, 4, 243, 244, 150], [37, 4, 29, 21, 480, 6, 481, 482], [11, 148, 2, 5, 4, 29, 21, 7, 483, 143, 6, 7, 484, 143], [2, 13, 485, 486, 6, 14, 13, 96, 26], [2, 13, 4, 44, 146, 113, 151, 245, 6, 14, 12, 3, 487, 60], [2, 5, 4, 109, 8, 488], [2, 134, 75, 24, 3, 26], [2, 152, 24, 3, 246, 11], [2, 153, 154, 75, 24, 3, 26], [489, 4, 110, 8, 18, 11, 490, 247, 6, 189, 242, 61], [248, 6, 491, 492, 6, 493, 494, 155], [495, 496, 6, 497, 6, 4, 75, 25, 13, 26, 10, 498, 60, 11, 499, 500], [24, 3, 26, 501, 502], [24, 3, 26, 503], [2, 5, 7, 504, 6, 14, 5, 19, 26], [2, 5, 505, 6, 37, 92, 61], [2, 5, 4, 109, 8, 4, 506, 11, 115, 247, 2, 5, 7, 507, 508, 509, 510, 6, 14, 12, 3, 511, 198, 19], [11, 115, 512, 2, 5, 7, 513, 6, 40, 5, 19, 26], [49, 4, 205, 8, 23, 89, 2, 12, 3, 77, 3, 137, 43, 129, 57, 7, 131, 10, 131, 514], [2, 515, 12, 3, 77, 3, 516, 108, 11, 23, 31, 28, 3, 34, 517], [2, 16, 3, 12, 10, 156, 518, 249, 4, 111, 116, 6, 250, 519], [3, 24, 187, 191, 10, 520, 7, 251, 73, 521], [3, 24, 200, 249, 74, 241], [76, 5, 18, 57, 522, 237, 4, 55, 5, 523, 524], [525, 96, 13, 526, 527, 16, 3, 252, 76, 253, 4, 55, 6, 40], [2, 16, 3, 12, 10, 156, 3, 238, 528, 91, 529], [3, 24, 223, 25, 7, 73, 111, 5, 530, 7, 224, 254, 8, 4, 73, 117, 531, 532, 6, 157, 148], [2, 255, 533, 23, 125, 6, 2, 16, 3, 252, 43, 196, 10, 534, 158, 255], [42, 22, 20, 4, 44, 535, 91, 3, 536, 57], [2, 34, 9, 184], [37, 7, 35, 3, 34, 537, 10, 208, 538, 4, 114, 25, 27, 539, 540], [42, 22, 20, 4, 91, 3, 13, 44, 221, 8, 6, 2, 9, 209, 27], [37, 9, 250, 541, 150], [56, 18, 126, 8, 65, 3, 24, 542, 9, 112, 543, 11, 7, 544, 202], [14, 32, 3, 545, 153, 62], [2, 32, 3, 12, 10, 156, 116, 11, 9, 546], [54, 5, 4, 33, 35, 3, 547, 7, 548, 49, 4, 549, 10, 138, 9, 50, 550, 551, 6, 2, 27, 19], [2, 13, 9, 112, 256], [14, 32, 9, 552, 553, 3, 15, 23, 31], [2, 12, 3, 12, 10, 554, 9, 112, 256], [14, 16, 3, 228, 9, 159, 555, 15, 23, 31], [2, 13, 9, 19, 177, 6, 178], [556, 160, 152, 12, 3, 239, 6, 40], [2, 5, 7, 39, 6, 7, 557, 39], [80, 4, 29, 21, 150, 6, 558], [2, 5, 7, 161], [2, 5, 7, 559], [2, 5, 18, 257], [2, 5, 7, 118], [37, 7, 258, 2, 5, 18, 162, 39], [104, 52, 259, 153, 62, 560, 21, 163, 6, 161, 2, 13, 4, 260, 15, 261, 4, 164], [2, 5, 4, 29, 21, 262, 6, 263], [2, 5, 4, 29, 21, 18, 81, 6, 18, 162, 39], [2, 561, 562, 13, 3, 563, 36], [2, 12, 3, 90, 20, 4, 63, 134, 564], [2, 5, 4, 565, 165], [2, 5, 4, 64, 165], [2, 5, 7, 566], [2, 5, 7, 39], [2, 5, 18, 164], [2, 5, 4, 166, 567, 568], [2, 5, 264], [2, 5, 569], [2, 13, 570, 6, 39, 265], [248, 163, 6, 161], [2, 5, 7, 258, 39], [2, 13, 4, 260, 15, 261, 4, 164], [2, 5, 4, 166, 167, 8, 157, 571], [51, 5, 4, 233, 266, 572, 11, 267], [2, 5, 4, 29, 21, 573, 6, 163, 6, 266], [5, 574, 39, 575], [2, 5, 7, 576, 39], [29, 21, 262, 6, 263], [2, 13, 98, 577, 11, 267], [2, 5, 7, 118], [2, 5, 7, 106, 118], [2, 5, 7, 578, 118], [2, 5, 18, 81], [29, 21, 39, 6, 81], [2, 5, 18, 162, 39], [2, 5, 98, 264], [2, 13, 92, 168, 6, 579], [580, 37, 4, 581, 582, 8, 4, 268, 169, 583, 110, 2, 34, 52, 8, 4, 159, 136, 6, 584, 15, 4, 169, 269], [2, 13, 52, 8, 4, 159, 251, 585, 11, 169], [2, 13, 52, 168, 8, 117, 270, 253, 55, 160, 152], [586, 4, 29, 21, 587, 35, 6, 588, 589, 590, 14, 270, 271, 60, 272, 62, 591], [2, 5, 7, 592, 6, 2, 13, 52, 168, 8, 19], [5, 19, 82, 10, 119, 7, 593, 11, 7, 170, 145], [74, 170, 273, 594, 6, 595, 596, 68, 7, 597, 598, 274, 6, 49, 100, 45, 55, 275, 599, 4, 99, 13, 232], [4, 600, 8, 4, 273, 13, 188, 171], [2, 13, 4, 601, 10, 119, 274], [83, 7, 172, 602, 276, 173, 277, 92, 603, 11, 604, 605], [5, 19, 82, 10, 278, 7, 606, 117, 170, 145], [607, 608, 87, 43, 279, 609], [83, 7, 276, 5, 19, 82, 10, 119, 4, 71, 6, 88, 174, 610, 11, 611, 35], [5, 19, 82, 10, 119, 4, 71, 6, 88, 612, 174, 4, 275, 11, 7, 83, 173, 613, 117, 185, 614, 265], [5, 19, 82, 10, 278, 615, 616, 11, 18, 257], [83, 74, 617, 280, 281, 132, 18, 618, 10, 277, 45, 4, 110, 21, 60, 36, 280, 281, 11, 7, 173, 14, 282, 619, 8, 620, 13, 621, 15, 622, 11, 7, 39, 259, 115], [14, 13, 4, 283, 623, 68, 64, 165, 5, 624], [2, 625, 5, 26, 59, 626, 627, 628], [629], [51, 8, 4, 268, 5, 26, 10, 630, 7, 631, 632, 18, 633, 115], [2, 5, 634, 17], [80, 4, 63, 17], [2, 5, 635, 17], [2, 5, 64, 160, 81, 636], [2, 5, 637, 638, 17], [2, 5, 284, 17], [2, 5, 639, 640, 641], [2, 5, 64, 172, 81, 642], [2, 5, 4, 29, 21, 643, 6, 285], [2, 5, 172, 644, 17], [2, 5, 645], [2, 5, 646], [2, 5, 647, 17], [2, 5, 648, 17], [46, 4, 649, 17], [80, 4, 120, 650], [46, 4, 284, 17], [2, 5, 254, 17], [2, 5, 99, 10, 99, 17], [2, 5, 651], [2, 5, 652], [2, 5, 286, 17], [2, 5, 653], [2, 5, 654, 17], [80, 4, 113, 17], [2, 5, 4, 29, 21, 655, 6, 286, 17, 36, 52, 214], [80, 4, 656, 657], [7, 658, 25, 659, 4, 660, 21, 120, 121, 6, 120, 661], [14, 282, 287, 8, 288, 13, 26, 11, 149, 17], [100, 13, 74, 287, 8, 288, 26, 662, 663, 231, 664], [2, 5, 665], [7, 666, 122, 123, 38, 41, 25, 667, 4, 171, 668, 6, 669, 4, 171, 670, 79, 7, 83, 41], [2, 5, 124, 671], [7, 672, 26, 272, 673, 674, 6, 114, 675, 7, 124, 676, 15, 4, 63], [2, 5, 149, 17], [17, 8, 677, 289, 8, 18, 64, 10, 678, 28, 96, 679, 680, 681], [682, 290, 683, 111, 6, 124, 17], [23, 167, 8, 17, 5, 291, 684, 10, 685, 686, 6, 292, 47], [2, 5, 293], [7, 687, 8, 294], [63, 245, 13, 4, 688, 689, 4, 690, 38, 691, 8, 7, 123], [7, 293, 87, 43, 7, 295, 692, 294, 8, 95, 693, 79, 7, 694, 8, 695, 696, 697, 8, 62], [2, 5, 116, 698], [45, 158, 699, 38, 700, 701, 236, 10, 104, 702, 703, 25, 7, 704, 38, 240, 5, 8, 4, 167, 6, 116, 705, 6, 706, 59, 4, 707], [2, 5, 708, 709], [7, 710, 8, 711, 712], [98, 713, 10, 7, 714, 296, 68, 88, 76, 8, 51, 5, 7, 132, 36, 101, 715, 26, 59, 716, 10, 717, 718, 157], [2, 5, 719, 17], [151, 17, 720, 57, 721, 4, 64, 722, 120, 723, 724, 725, 11, 726], [2, 5, 63, 121, 269], [7, 727, 25, 728, 45, 283, 124, 6, 729, 121, 45, 730, 6, 45, 285, 121, 15, 63], [2, 5, 18, 30, 41], [18, 30, 41, 5, 7, 123, 25, 297, 79, 18, 731, 21, 4, 175, 6, 4, 122, 298], [4, 732, 8, 18, 299, 5, 10, 104, 7, 300, 212, 11, 51, 7, 175, 67, 733, 176, 11, 7, 300, 6, 734, 735], [2, 13, 4, 166, 30, 47], [736, 30, 47, 737, 246, 30, 47, 738, 30, 47, 292, 30, 47, 295, 35, 30, 47, 2, 13, 4, 301, 739, 8, 18, 30, 41], [30, 41, 302, 6, 740, 4, 61, 8, 4, 298, 174, 4, 303, 741, 176, 15, 303, 271], [30, 41, 297, 79, 296, 742, 6, 218], [743, 30, 41, 5, 154, 123, 51, 302, 4, 175, 176, 10, 744, 745, 6, 746, 61, 8, 4, 122], [19, 5, 291, 747, 36, 4, 748, 6, 154, 8, 72, 279, 749], [2, 5, 7, 48], [4, 48, 5, 4, 750, 6, 751, 752, 8, 7, 122, 30, 41, 25, 753, 301, 155, 15, 45, 289, 8, 299], [2, 5, 4, 29, 21, 304, 6, 305, 48], [4, 304, 5, 7, 48, 51, 754, 155, 158, 13, 755, 15, 30, 41, 151], [11, 23, 48, 45, 55, 756, 13, 290, 59, 4, 757], [305, 48, 5, 7, 758, 8, 759, 6, 306, 48], [11, 306, 48, 45, 30, 41, 62, 5, 11, 4, 760, 761, 762]]\n",
            "[[307  22  20 ...   0   0   0]\n",
            " [  2  13   9 ...   0   0   0]\n",
            " [  2  13   9 ...   0   0   0]\n",
            " ...\n",
            " [ 11  23  48 ...   0   0   0]\n",
            " [305  48   5 ...   0   0   0]\n",
            " [ 11 306  48 ...   0   0   0]]\n"
          ],
          "name": "stdout"
        }
      ]
    },
    {
      "cell_type": "code",
      "metadata": {
        "id": "TP58j3yZqI2S",
        "colab_type": "code",
        "outputId": "9e409d0e-4a38-406f-87f6-9f52f47f84c1",
        "colab": {
          "base_uri": "https://localhost:8080/",
          "height": 224
        }
      },
      "source": [
        "#new word -> new label\n",
        "tokenizer = Tokenizer(num_words = vocab_size, oov_token = oov_tok)\n",
        "tokenizer.fit_on_texts(test_sentences)\n",
        "test_word_index = tokenizer.word_index\n",
        "test_labels = list(test_word_index.keys())\n",
        "test_sequences = tokenizer.texts_to_sequences(test_sentences)\n",
        "test_padded = pad_sequences(test_sequences, padding= padding_type, truncating=trunc_type, maxlen=max_length)\n",
        "print(test_word_index)\n",
        "print(test_labels)\n",
        "print(test_sequences)\n",
        "print(test_padded)"
      ],
      "execution_count": 0,
      "outputs": [
        {
          "output_type": "stream",
          "text": [
            "{'<OOV>': 1, 'is': 2, 'what': 3, 'the': 4, 'a': 5, 'and': 6, 'of': 7, 'testing': 8, 'are': 9, 'in': 10, 'an': 11, 'to': 12, 'operating': 13, 'between': 14, 'class': 15, 'system': 16, 'difference': 17, 'for': 18, 'all': 19, 'kernel': 20, 'it': 21, 'systems': 22, 'some': 23, 'software': 24, 'application': 25, 'which': 26, 'used': 27, 'that': 28, 'what’s': 29, 'interface': 30, 'with': 31, 'possible': 32, 'given': 33, 'stream': 34, 'code': 35, 'how': 36, 'find': 37, 'by': 38, 'test': 39, 'requirements': 40, 'computer': 41, 'program': 42, 'or': 43, 'as': 44, 'functional': 45, 'programming': 46, 'you': 47, 'constructor': 48, 'abstract': 49, 'provide': 50, 'method': 51, 'object': 52, 'layer': 53, 'different': 54, 'type': 55, 'multiple': 56, 'advantages': 57, 'html5': 58, 'using': 59, 'other': 60, 'time': 61, 'linked': 62, 'two': 63, 'at': 64, 'end': 65, 'same': 66, 'binary': 67, 'bst': 68, 'least': 69, 'among': 70, 'user': 71, 'programs': 72, 'languages': 73, 'do': 74, 'array': 75, 'describe': 76, 'singleton': 77, 'c': 78, 'steps': 79, 'creating': 80, 'overloading': 81, 'overriding': 82, 'inheritance': 83, 'variables': 84, 'access': 85, 'operator': 86, 'java': 87, 'its': 88, 'following': 89, 'elements': 90, 'key': 91, 'specification': 92, 'python': 93, 'uses': 94, 'them': 95, 'during': 96, 'list': 97, 'lists': 98, 'n1': 99, 'there': 100, 'nodes': 101, 'tree': 102, 'print': 103, 'implement': 104, 'should': 105, 'be': 106, 'o': 107, 'greatest': 108, 'k1': 109, 'k2': 110, 'write': 111, 'many': 112, 'network': 113, 'data': 114, 'beta': 115, 'validation': 116, \"what's\": 117, 'compatibility': 118, 'types': 119, 'approaches': 120, 'integration': 121, 'parts': 122, 'performed': 123, 'this': 124, 'especially': 125, 'distributed': 126, 'metric': 127, 'measurement': 128, 'real': 129, 'quality': 130, 'those': 131, 'resource': 132, 'performance': 133, 'acts': 134, 'hardware': 135, 'os': 136, 'convenient': 137, 'basic': 138, 'controls': 139, 'use': 140, 'various': 141, 'control': 142, 'services': 143, 'microkernel': 144, 'macro': 145, 'monolithic': 146, '\\ufeffwhich': 147, 'prefer': 148, 'why': 149, 'super': 150, 'process': 151, 'thread': 152, 'message': 153, 'source': 154, 'comparison': 155, 'javascript': 156, 'frameworks': 157, 'familiar': 158, 'know': 159, 'about': 160, 'development': 161, 'cycle': 162, 'transport': 163, 'file': 164, 'oops': 165, 'principle': 166, 'polymorphism': 167, 'instance': 168, 'compare': 169, 'modifiers': 170, 'highest': 171, 'precedence': 172, 'equals': 173, 'string': 174, 'final': 175, 'wrapper': 176, 'inheritances': 177, 'character': 178, 'byte': 179, 'disadvantages': 180, 'briefly': 181, 'correct': 182, 'usage': 183, 'semantic': 184, 'were': 185, 'goals': 186, 'motivations': 187, 'new': 188, 'features': 189, 'over': 190, 'explain': 191, 'compile': 192, 'runtime': 193, 'then': 194, 'discuss': 195, 'checking': 196, 'view': 197, 'loop': 198, 'l1': 199, 'l2': 200, 'intersects': 201, 'particular': 202, 'node': 203, 'from': 204, 'till': 205, 'common': 206, 'length': 207, 'not': 208, 'possibilities': 209, 'search': 210, 'values': 211, 'ascending': 212, 'order': 213, 'queue': 214, 'enqueue': 215, 'dequeue': 216, '1': 217, 'leaves': 218, 'linear': 219, 'value': 220, 'without': 221, 'any': 222, 'extra': 223, '2': 224, 'stack': 225, 'keys': 226, 'algorithm': 227, 'numbers': 228, 'addresses': 229, 'usable': 230, 'addressing': 231, 'units': 232, 'called': 233, 'protocol': 234, 'dns': 235, 'name': 236, 'servers': 237, 'justify': 238, 'direct': 239, 'packet': 240, 'inside': 241, 'internal': 242, 'acceptance': 243, 'accessibility': 244, 'api': 245, 'ad': 246, 'hoc': 247, 'backus': 248, 'naur': 249, 'form': 250, 'abi': 251, 'verification': 252, 'portability': 253, 'bug': 254, 'defect': 255, 'branch': 256, 'breadth': 257, 'alpha': 258, 'case': 259, 'component': 260, 'cast': 261, 'cmm': 262, 'debugging': 263, 'dependency': 264, 'database': 265, 'interoperability': 266, 'examples': 267, 'traceability': 268, 'matrix': 269, 'document': 270, 'showing': 271, 'relationship': 272, 'cases': 273, 'bottom': 274, 'up': 275, 'top': 276, 'down': 277, 'emulator': 278, 'device': 279, 'accepts': 280, 'inputs': 281, 'produces': 282, 'outputs': 283, 'decomposition': 284, 'technique': 285, 'planning': 286, 'analysis': 287, 'design': 288, 'creates': 289, 'hierarchy': 290, 'combined': 291, 'determine': 292, 'if': 293, 'they': 294, 'function': 295, 'together': 296, 'correctly': 297, 'usually': 298, 'after': 299, 'unit': 300, 'relevant': 301, 'client': 302, 'server': 303, 'standard': 304, 'metrics': 305, 'statistics': 306, 'describing': 307, 'structure': 308, 'content': 309, 'objective': 310, 'something': 311, 'such': 312, 'number': 313, 'bugs': 314, 'per': 315, 'lines': 316, 'assurance': 317, 'planned': 318, 'systematic': 319, 'actions': 320, 'necessary': 321, 'adequate': 322, 'confidence': 323, 'product': 324, 'service': 325, 'needed': 326, 'expected': 327, 'customer': 328, 'race': 329, 'condition': 330, 'cause': 331, 'concurrency': 332, 'problems': 333, 'accesses': 334, 'shared': 335, 'one': 336, 'no': 337, 'mechanism': 338, 'either': 339, 'moderate': 340, 'simultaneous': 341, 'scalability': 342, 'focused': 343, 'on': 344, 'ensuring': 345, 'under': 346, 'gracefully': 347, 'handles': 348, 'increases': 349, 'workload': 350, 'deliverable': 351, 'describes': 352, 'behavioral': 353, 'constraints': 354, 'intermediary': 355, 'purpose': 356, 'environment': 357, 'can': 358, 'execute': 359, 'efficient': 360, 'manner': 361, 'batched': 362, 'multi': 363, 'programmed': 364, 'timesharing': 365, 'functions': 366, 'coordinates': 367, 'applications': 368, 'allocator': 369, 'manager': 370, 'also': 371, 'prevent': 372, 'errors': 373, 'improper': 374, 'concerned': 375, 'operation': 376, 'i': 377, 'devices': 378, 'core': 379, 'essential': 380, 'part': 381, 'provides': 382, 'run': 383, 'minimal': 384, 'operations': 385, 'processor': 386, 'combination': 387, 'micro': 388, 'single': 389, 'executable': 390, 'image': 391}\n",
            "['<OOV>', 'is', 'what', 'the', 'a', 'and', 'of', 'testing', 'are', 'in', 'an', 'to', 'operating', 'between', 'class', 'system', 'difference', 'for', 'all', 'kernel', 'it', 'systems', 'some', 'software', 'application', 'which', 'used', 'that', 'what’s', 'interface', 'with', 'possible', 'given', 'stream', 'code', 'how', 'find', 'by', 'test', 'requirements', 'computer', 'program', 'or', 'as', 'functional', 'programming', 'you', 'constructor', 'abstract', 'provide', 'method', 'object', 'layer', 'different', 'type', 'multiple', 'advantages', 'html5', 'using', 'other', 'time', 'linked', 'two', 'at', 'end', 'same', 'binary', 'bst', 'least', 'among', 'user', 'programs', 'languages', 'do', 'array', 'describe', 'singleton', 'c', 'steps', 'creating', 'overloading', 'overriding', 'inheritance', 'variables', 'access', 'operator', 'java', 'its', 'following', 'elements', 'key', 'specification', 'python', 'uses', 'them', 'during', 'list', 'lists', 'n1', 'there', 'nodes', 'tree', 'print', 'implement', 'should', 'be', 'o', 'greatest', 'k1', 'k2', 'write', 'many', 'network', 'data', 'beta', 'validation', \"what's\", 'compatibility', 'types', 'approaches', 'integration', 'parts', 'performed', 'this', 'especially', 'distributed', 'metric', 'measurement', 'real', 'quality', 'those', 'resource', 'performance', 'acts', 'hardware', 'os', 'convenient', 'basic', 'controls', 'use', 'various', 'control', 'services', 'microkernel', 'macro', 'monolithic', '\\ufeffwhich', 'prefer', 'why', 'super', 'process', 'thread', 'message', 'source', 'comparison', 'javascript', 'frameworks', 'familiar', 'know', 'about', 'development', 'cycle', 'transport', 'file', 'oops', 'principle', 'polymorphism', 'instance', 'compare', 'modifiers', 'highest', 'precedence', 'equals', 'string', 'final', 'wrapper', 'inheritances', 'character', 'byte', 'disadvantages', 'briefly', 'correct', 'usage', 'semantic', 'were', 'goals', 'motivations', 'new', 'features', 'over', 'explain', 'compile', 'runtime', 'then', 'discuss', 'checking', 'view', 'loop', 'l1', 'l2', 'intersects', 'particular', 'node', 'from', 'till', 'common', 'length', 'not', 'possibilities', 'search', 'values', 'ascending', 'order', 'queue', 'enqueue', 'dequeue', '1', 'leaves', 'linear', 'value', 'without', 'any', 'extra', '2', 'stack', 'keys', 'algorithm', 'numbers', 'addresses', 'usable', 'addressing', 'units', 'called', 'protocol', 'dns', 'name', 'servers', 'justify', 'direct', 'packet', 'inside', 'internal', 'acceptance', 'accessibility', 'api', 'ad', 'hoc', 'backus', 'naur', 'form', 'abi', 'verification', 'portability', 'bug', 'defect', 'branch', 'breadth', 'alpha', 'case', 'component', 'cast', 'cmm', 'debugging', 'dependency', 'database', 'interoperability', 'examples', 'traceability', 'matrix', 'document', 'showing', 'relationship', 'cases', 'bottom', 'up', 'top', 'down', 'emulator', 'device', 'accepts', 'inputs', 'produces', 'outputs', 'decomposition', 'technique', 'planning', 'analysis', 'design', 'creates', 'hierarchy', 'combined', 'determine', 'if', 'they', 'function', 'together', 'correctly', 'usually', 'after', 'unit', 'relevant', 'client', 'server', 'standard', 'metrics', 'statistics', 'describing', 'structure', 'content', 'objective', 'something', 'such', 'number', 'bugs', 'per', 'lines', 'assurance', 'planned', 'systematic', 'actions', 'necessary', 'adequate', 'confidence', 'product', 'service', 'needed', 'expected', 'customer', 'race', 'condition', 'cause', 'concurrency', 'problems', 'accesses', 'shared', 'one', 'no', 'mechanism', 'either', 'moderate', 'simultaneous', 'scalability', 'focused', 'on', 'ensuring', 'under', 'gracefully', 'handles', 'increases', 'workload', 'deliverable', 'describes', 'behavioral', 'constraints', 'intermediary', 'purpose', 'environment', 'can', 'execute', 'efficient', 'manner', 'batched', 'multi', 'programmed', 'timesharing', 'functions', 'coordinates', 'applications', 'allocator', 'manager', 'also', 'prevent', 'errors', 'improper', 'concerned', 'operation', 'i', 'devices', 'core', 'essential', 'part', 'provides', 'run', 'minimal', 'operations', 'processor', 'combination', 'micro', 'single', 'executable', 'image']\n",
            "[[147, 46, 73, 74, 47, 148, 6, 149], [3, 2, 5, 15, 6, 5, 150, 15], [29, 4, 17, 14, 151, 6, 152], [3, 2, 5, 48], [3, 2, 5, 153], [3, 2, 11, 75], [3, 2, 5, 34], [76, 5, 77, 3, 2, 11, 49, 15], [50, 23, 78, 154, 35, 155, 14, 51, 6, 48, 3, 9, 4, 79, 18, 80, 4, 52], [3, 2, 4, 17, 14, 81, 6, 82], [3, 2, 4, 17, 14, 11, 30, 6, 11, 49, 15], [3, 156, 157, 9, 47, 158, 31], [3, 74, 47, 159, 160, 4, 24, 161, 162], [3, 2, 4, 163, 53], [3, 2, 4, 25, 53], [3, 2, 5, 164], [3, 2, 5, 15], [3, 2, 11, 52], [3, 2, 4, 54, 165, 166], [3, 2, 83], [3, 2, 167], [3, 9, 168, 6, 15, 84], [169, 51, 6, 48], [3, 2, 5, 77, 15], [3, 9, 4, 79, 18, 80, 4, 52], [3, 2, 4, 54, 55, 7, 85, 170], [26, 2, 4, 171, 86, 172, 10, 87], [3, 2, 4, 17, 14, 173, 6, 51, 6, 86], [2, 174, 15, 175], [3, 2, 5, 176, 15], [17, 14, 81, 6, 82], [3, 9, 56, 177, 10, 87], [3, 2, 5, 34], [3, 2, 5, 178, 34], [3, 2, 5, 179, 34], [3, 2, 11, 30], [17, 14, 15, 6, 30], [3, 2, 11, 49, 15], [3, 2, 56, 83], [3, 9, 88, 57, 6, 180], [181, 76, 4, 182, 183, 7, 4, 89, 58, 184, 90, 3, 185, 23, 7, 4, 91, 186, 6, 187, 18, 4, 58, 92], [3, 9, 23, 7, 4, 91, 188, 189, 10, 58], [3, 9, 23, 57, 7, 59, 93, 190, 60, 46, 73], [191, 4, 17, 14, 192, 61, 6, 193, 194, 195, 36, 93, 94, 95, 96, 35, 196], [3, 2, 5, 197, 6, 3, 9, 23, 57, 7, 21], [2, 21, 32, 12, 37, 5, 198, 10, 5, 62, 97], [63, 62, 98, 199, 6, 200, 201, 64, 5, 202, 203, 99, 6, 204, 100, 19, 60, 101, 205, 4, 65, 9, 206], [4, 207, 7, 4, 98, 9, 208, 66], [3, 9, 4, 209, 12, 37, 99], [33, 5, 67, 210, 102, 68, 103, 88, 211, 10, 212, 213], [2, 21, 32, 12, 104, 5, 214, 59, 62, 97], [215, 216, 105, 106, 107, 217], [33, 5, 102, 2, 21, 32, 12, 37, 4, 108, 6, 69, 70, 218, 10, 219, 61], [2, 21, 32, 12, 37, 4, 108, 6, 69, 220, 70, 4, 101, 10, 5, 33, 68, 221, 59, 222, 223, 84], [2, 21, 32, 12, 104, 224, 225, 10, 11, 75], [33, 63, 226, 109, 110, 111, 11, 227, 12, 103, 19, 4, 90, 14, 95, 31, 109, 110, 10, 5, 68, 36, 112, 228, 7, 229, 9, 230, 18, 231, 10, 5, 15, 78, 113], [36, 9, 4, 114, 232, 64, 25, 53, 2, 233], [3, 234, 2, 27, 38, 235, 236, 237], [238], [26, 7, 4, 89, 2, 27, 12, 239, 5, 240, 241, 11, 242, 113], [3, 2, 243, 8], [29, 4, 24, 8], [3, 2, 244, 8], [3, 2, 25, 46, 30, 245], [3, 2, 246, 247, 8], [3, 2, 115, 8], [3, 2, 248, 249, 250], [3, 2, 25, 67, 30, 251], [3, 2, 4, 17, 14, 252, 6, 116], [3, 2, 67, 253, 8], [3, 2, 254], [3, 2, 255], [3, 2, 256, 8], [3, 2, 257, 8], [117, 4, 258, 8], [29, 4, 39, 259], [117, 4, 115, 8], [3, 2, 260, 8], [3, 2, 65, 12, 65, 8], [3, 2, 261], [3, 2, 262], [3, 2, 118, 8], [3, 2, 263], [3, 2, 264, 8], [29, 4, 265, 8], [3, 2, 4, 17, 14, 266, 6, 118, 8, 31, 23, 267], [29, 4, 268, 269], [5, 270, 28, 271, 4, 272, 14, 39, 40, 6, 39, 273], [36, 112, 119, 7, 120, 9, 27, 10, 121, 8], [100, 9, 63, 119, 7, 120, 27, 274, 275, 276, 277], [3, 2, 278], [5, 279, 41, 42, 43, 16, 28, 280, 4, 66, 281, 6, 282, 4, 66, 283, 44, 5, 33, 16], [3, 2, 45, 284], [5, 285, 27, 96, 286, 287, 6, 288, 289, 5, 45, 290, 18, 4, 24], [3, 2, 121, 8], [8, 7, 291, 122, 7, 11, 25, 12, 292, 293, 294, 295, 296, 297], [298, 123, 299, 300, 6, 45, 8], [124, 55, 7, 8, 2, 125, 301, 12, 302, 303, 6, 126, 22], [3, 2, 127], [5, 304, 7, 128], [24, 305, 9, 4, 306, 307, 4, 308, 43, 309, 7, 5, 42], [5, 127, 105, 106, 5, 129, 310, 128, 7, 311, 312, 44, 5, 313, 7, 314, 315, 316, 7, 35], [3, 2, 130, 317], [19, 131, 318, 43, 319, 320, 321, 12, 50, 322, 323, 28, 5, 324, 43, 325, 2, 7, 4, 55, 6, 130, 326, 6, 327, 38, 4, 328], [3, 2, 329, 330], [5, 331, 7, 332, 333], [56, 334, 12, 5, 335, 132, 64, 69, 336, 7, 26, 2, 5, 111, 31, 337, 338, 27, 38, 339, 12, 340, 341, 85], [3, 2, 342, 8], [133, 8, 343, 344, 345, 4, 25, 346, 39, 347, 348, 349, 10, 350], [3, 2, 24, 40, 92], [5, 351, 28, 352, 19, 114, 45, 6, 353, 40, 19, 354, 6, 19, 116, 40, 18, 24], [3, 2, 11, 13, 16], [11, 13, 16, 2, 5, 42, 28, 134, 44, 11, 355, 14, 4, 71, 6, 4, 41, 135], [4, 356, 7, 11, 136, 2, 12, 50, 5, 137, 357, 10, 26, 5, 71, 358, 359, 72, 10, 5, 137, 6, 360, 361], [3, 9, 4, 54, 13, 22], [362, 13, 22, 363, 364, 13, 22, 365, 13, 22, 126, 13, 22, 129, 61, 13, 22, 3, 9, 4, 138, 366, 7, 11, 13, 16], [13, 16, 139, 6, 367, 4, 140, 7, 4, 135, 70, 4, 141, 368, 72, 18, 141, 94], [13, 16, 134, 44, 132, 369, 6, 370], [371, 13, 16, 2, 142, 42, 26, 139, 4, 71, 72, 12, 372, 373, 6, 374, 140, 7, 4, 41], [21, 2, 125, 375, 31, 4, 376, 6, 142, 7, 377, 107, 378], [3, 2, 5, 20], [4, 20, 2, 4, 379, 6, 380, 381, 7, 5, 41, 13, 16, 28, 382, 138, 143, 18, 19, 122, 7, 136], [3, 2, 4, 17, 14, 144, 6, 145, 20], [4, 144, 2, 5, 20, 26, 383, 143, 131, 9, 384, 18, 13, 16, 133], [10, 124, 20, 19, 60, 385, 9, 123, 38, 4, 386], [145, 20, 2, 5, 387, 7, 388, 6, 146, 20], [10, 146, 20, 19, 13, 16, 35, 2, 10, 4, 389, 390, 391]]\n",
            "[[147  46  73 ...   0   0   0]\n",
            " [  3   2   5 ...   0   0   0]\n",
            " [ 29   4  17 ...   0   0   0]\n",
            " ...\n",
            " [ 10 124  20 ...   0   0   0]\n",
            " [145  20   2 ...   0   0   0]\n",
            " [ 10 146  20 ...   0   0   0]]\n"
          ],
          "name": "stdout"
        }
      ]
    },
    {
      "cell_type": "code",
      "metadata": {
        "id": "54eI72ASLbcE",
        "colab_type": "code",
        "outputId": "300e5616-4892-4457-ddde-991f822c0509",
        "colab": {
          "base_uri": "https://localhost:8080/",
          "height": 54
        }
      },
      "source": [
        "reverse_word_index = dict([(value,key) for (key,value) in train_word_index.items()])\n",
        "def decode_text(text):\n",
        "  return ' '.join([reverse_word_index.get(i,'?') for i in text])\n",
        "\n",
        "print(decode_text(train_padded[1]))\n",
        "print(train_sentences[1])"
      ],
      "execution_count": 0,
      "outputs": [
        {
          "output_type": "stream",
          "text": [
            "what are your strengths ? ? ? ? ? ? ? ? ? ? ? ? ? ? ? ? ? ? ? ? ? ? ? ? ? ? ? ? ? ? ? ? ? ? ? ? ? ? ? ? ? ? ? ? ? ? ? ? ? ? ? ? ? ? ? ? ? ? ? ? ? ? ? ? ? ? ? ? ? ? ? ? ? ? ? ? ? ? ? ? ? ? ? ? ? ? ? ? ? ? ? ? ? ? ? ? ? ? ? ? ? ? ? ? ? ? ? ? ? ? ? ? ? ? ? ?\n",
            "What are your strengths?\n"
          ],
          "name": "stdout"
        }
      ]
    },
    {
      "cell_type": "code",
      "metadata": {
        "id": "x93g3RCpOET8",
        "colab_type": "code",
        "colab": {}
      },
      "source": [
        "tokenizer = Tokenizer(num_words = vocab_size, oov_token = oov_tok)\n",
        "tokenizer.fit_on_texts(data_sentences)\n",
        "data_word_index = tokenizer.word_index\n",
        "label =list(data_word_index.keys())\n",
        "data_sequences = tokenizer.texts_to_sequences(data_sentences)\n",
        "data_padded = pad_sequences(data_sequences, padding=padding_type,truncating=trunc_type,maxlen=max_length)\n"
      ],
      "execution_count": 0,
      "outputs": []
    },
    {
      "cell_type": "code",
      "metadata": {
        "id": "w2NmaPIgrY2O",
        "colab_type": "code",
        "colab": {}
      },
      "source": [
        "\n",
        "label_tokenizer = Tokenizer()\n",
        "label_tokenizer.fit_on_texts(label)\n",
        "\n",
        "training_label_seq = np.array(label_tokenizer.texts_to_sequences(train_labels))\n",
        "test_label_seq = np.array(label_tokenizer.texts_to_sequences(test_labels))"
      ],
      "execution_count": 0,
      "outputs": []
    },
    {
      "cell_type": "code",
      "metadata": {
        "id": "d-poNloXB5sW",
        "colab_type": "code",
        "outputId": "c0d131c9-8e04-4f3b-e3a8-549882124695",
        "colab": {
          "base_uri": "https://localhost:8080/",
          "height": 56
        }
      },
      "source": [
        "print(label)"
      ],
      "execution_count": 0,
      "outputs": [
        {
          "output_type": "stream",
          "text": [
            "['<OOV>', 'what', 'is', 'the', 'you', 'a', 'and', 'of', 'to', 'in', 'are', 'your', 'do', 'testing', 'an', 'for', 'how', 'between', 'operating', 'it', 'would', 'difference', 'class', 'that', 'used', 'system', 'about', 'this', 'with', 'all', 'me', 'have', 'time', 'if', 'or', 'kernel', 'was', 'systems', 'job', 'did', 'were', 'describe', 'last', 'which', 'some', 'why', 'software', 'application', 'be', \"what's\", 'tell', 'by', 'code', 'what’s', 'interface', 'possible', 'given', 'most', 'other', 'as', 'from', 'at', 'two', 'them', 'use', 'stream', 'find', 'test', 'requirements', 'computer', 'program', 'functional', 'least', 'work', 'on', 'greatest', 'multiple', 'end', 'provide', 'using', 'yourself', 'should', 'when', 'can', 'its', 'give', 'who', 'i', 'there', 'one', 'elements', 'network', 'quality', 'programming', 'constructor', 'abstract', 'method', 'object', 'layer', 'different', 'type', 'advantages', 'html5', 'linked', 'same', 'binary', 'bst', 'among', 'user', 'programs', 'where', 'like', 'know', 'handle', 'had', 'something', 'business', 'they', 'no', 'write', 'tools', 'think', 'three', 'character', 'list', 'unit', 'database', 'design', 'integration', 'performance', 'languages', 'control', 'services', 'access', 'those', 'key', 'want', 'career', 'company', 'position', 'project', 'someone', 'difficult', 'decision', 'salary', 'year', 'development', 'goals', 'first', 'traits', 'expect', 'role', 'technical', 'process', 'source', 'array', 'singleton', 'c', 'steps', 'creating', 'overloading', 'overriding', 'inheritance', 'variables', 'operator', 'java', 'following', 'specification', 'python', 'uses', 'during', 'lists', 'n1', 'nodes', 'tree', 'print', 'implement', 'o', 'k1', 'k2', 'many', 'data', 'beta', 'validation', 'compatibility', 'types', 'approaches', 'parts', 'performed', 'especially', 'distributed', 'metric', 'measurement', 'real', 'resource', 'acts', 'hardware', 'os', 'convenient', 'basic', 'controls', 'various', 'microkernel', 'macro', 'monolithic', 'present', 'any', 'example', 'team', 'not', 'working', 'doing', \"you've\", 'day', 'say', 'kind', 'will', 'make', 'days', 'environment', 'examples', 'person', 'oriented', 'manager', 'boss', 'statement', 'thing', 'important', 'leader', 'top', 'common', 'highest', 'necessary', 'prefer', 'service', 'databases', 'metrics', 'programmed', 'compare', 'ensure', 'new', 'over', 'component', 'strengths', 'weaknesses', 'five', 'years', 'now', 'ideal', 'we', 'responsibilities', 'questions', 'been', 'their', 'supervisor', 'asked', 'disagreed', 'deal', 'wrong', 'brought', 'done', 'out', 'against', 'made', 'come', 'finish', 'way', 'could', 'but', 'description', 'next', 'terms', 'improve', 'contribution', '90', 'style', 'look', 'choose', 'achievement', 'favorite', 'really', 'best', 'proud', 'positive', 'learned', 'major', 'good', 'feel', 'answer', 'rate', 'right', 'months', 'percentage', 'employees', 'solution', 'provided', 'solutions', 'appropriate', 'automated', 'build', 'architecture', 'across', 'production', 'recommend', 'risks', 'certifications', '\\ufeffwhich', 'super', 'thread', 'message', 'comparison', 'javascript', 'frameworks', 'familiar', 'cycle', 'transport', 'file', 'oops', 'principle', 'polymorphism', 'instance', 'modifiers', 'precedence', 'equals', 'string', 'final', 'wrapper', 'inheritances', 'byte', 'disadvantages', 'briefly', 'correct', 'usage', 'semantic', 'motivations', 'features', 'explain', 'compile', 'runtime', 'then', 'discuss', 'checking', 'view', 'loop', 'l1', 'l2', 'intersects', 'particular', 'node', 'till', 'length', 'possibilities', 'search', 'values', 'ascending', 'order', 'queue', 'enqueue', 'dequeue', '1', 'leaves', 'linear', 'value', 'without', 'extra', '2', 'stack', 'keys', 'algorithm', 'numbers', 'addresses', 'usable', 'addressing', 'units', 'called', 'protocol', 'dns', 'name', 'servers', 'justify', 'direct', 'packet', 'inside', 'internal', 'acceptance', 'accessibility', 'api', 'ad', 'hoc', 'backus', 'naur', 'form', 'abi', 'verification', 'portability', 'bug', 'defect', 'branch', 'breadth', 'alpha', 'case', 'cast', 'cmm', 'debugging', 'dependency', 'interoperability', 'traceability', 'matrix', 'document', 'showing', 'relationship', 'cases', 'bottom', 'up', 'down', 'emulator', 'device', 'accepts', 'inputs', 'produces', 'outputs', 'decomposition', 'technique', 'planning', 'analysis', 'creates', 'hierarchy', 'combined', 'determine', 'function', 'together', 'correctly', 'usually', 'after', 'relevant', 'client', 'server', 'standard', 'statistics', 'describing', 'structure', 'content', 'objective', 'such', 'number', 'bugs', 'per', 'lines', 'assurance', 'planned', 'systematic', 'actions', 'adequate', 'confidence', 'product', 'needed', 'expected', 'customer', 'race', 'condition', 'cause', 'concurrency', 'problems', 'accesses', 'shared', 'mechanism', 'either', 'moderate', 'simultaneous', 'scalability', 'focused', 'ensuring', 'under', 'gracefully', 'handles', 'increases', 'workload', 'deliverable', 'describes', 'behavioral', 'constraints', 'intermediary', 'purpose', 'execute', 'efficient', 'manner', 'batched', 'multi', 'timesharing', 'functions', 'coordinates', 'applications', 'allocator', 'also', 'prevent', 'errors', 'improper', 'concerned', 'operation', 'devices', 'core', 'essential', 'part', 'provides', 'run', 'minimal', 'operations', 'processor', 'combination', 'micro', 'single', 'executable', 'image', '\\ufefftell', 'attracted', 'hire', 'satisfied', 'us', 'candidates', \"can't\", 'leaving', 'industry', 'our', 'willing', 'relocate', 'led', 'outcome', 'felt', 'went', 'above', 'beyond', 'call', 'duty', 'criticized', 'ever', 'pulling', 'own', 'weight', 'feedback', 'failure', 'learn', 'people', 'annoy', 'period', 'life', 'conflict', 'lunch', 'ordered', 'rare', 'steak', 'well', 'found', 'law', 'fraud', 'assignment', 'too', 'resolve', 'issue', 'situation', 'required', 'tasks', 'conceivable', 'seeking', 'history', 'requested', 'let', 'looking', 'mind', 'got', 'ask', 'additional', 'training', 'exposure', 'she', 'suggest', 'go', 'establishing', 'credibility', 'quickly', 'long', 'take', 'significant', 'see', 'within', '30', 'selected', 'strategy', 'culture—structured', 'entrepreneurial', 'ideas', 'implemented', 'techniques', 'keep', 'organized', 'consider', 'big', 'picture', 'detail', 'proudest', 'previous', 'personality', 'lifelong', 'dreams', 'ultimately', 'become', 'personal', 'mission', 'things', 'negative', 'friends', \"don't\", 'interviewing', 'words', 'has', 'impacted', 'fear', 'biggest', 'regret', 'school', 'miss', 'outside', 'qualities', 'bad', 'feared', 'liked', 'taking', 'knows', 'less', 'than', 'interviewer', \"wouldn't\", 'exceptional', 'car', 'drive', \"there's\", 'anywhere', 'world', 'book', 'read', 'magazines', 'subscribe', 'movie', 'seen', 'won', 'lottery', 'heroes', 'fun', 'spare', 'memory', 'childhood', 'toughest', 'six', 'leadership', 'accomplish', 'rank', 'performers', 'drives', 'results', \"company's\", 'priority', 'my', 'contribute', 'current', 'directly', 'users', 'successful', 'spend', 'documents', 'much', 'reuse', 'get', 'develop', 'batch', 'websites', 'follow', 'designed', 'enforce', 'relational', 'integrity', 'de', 'normalize', 'olap', 'oltp', 'each', 'processes', 'continuous', 'optimistic', 'pessimistic', 'locking', 'delete', 'truncate', 'transaction', 'logs', 'monitor', 'snmp', 'escribe', 'tier', 'contrast', 'rest', 'soap', 'web', 'define', 'authentication', 'authorization', 'support', 'enterprise', 'deployments', 'visual', 'studio', 'eclipse', 'san', 'clustering', 'dmz', 'cross', 'site', 'scripting', 'attack', 'defend', 'security', 'honeypot', 'basis', 'challenges', 'might', 'hired', 'consistency', 'environments', 'research', 'tool', 'premises', 'cloud', 'based', 'assuming', 'functionally', 'equivalent', 'accurate', 'estimates', 'managing', 'excel', 'spreadsheets', 'does', 'mitigate', 'recent', 'worked', 'able', 'upon', 'originally', 'suggested', 'deployment', 'applied', 'knowledge', 'practical', 'manage', 'deliverables', 'downloaded', 'utility', 'internet', 'more', 'productive', 'education', 'prepare', 'maintain', 'competencies']\n"
          ],
          "name": "stdout"
        }
      ]
    },
    {
      "cell_type": "code",
      "metadata": {
        "id": "Jgh5rRJBiJhp",
        "colab_type": "code",
        "outputId": "044d9e32-27b1-4b7d-ea3c-e9bbbdded92a",
        "colab": {
          "base_uri": "https://localhost:8080/",
          "height": 316
        }
      },
      "source": [
        "model = tf.keras.Sequential([\n",
        "    tf.keras.layers.Embedding(vocab_size, embedding_dim, input_length=max_length),\n",
        "    tf.keras.layers.GlobalAveragePooling1D(),\n",
        "    tf.keras.layers.Dense(6, activation='relu'),\n",
        "    tf.keras.layers.Dense(1, activation='sigmoid')\n",
        "])\n",
        "model.compile(loss='sparse_categorical_crossentropy',optimizer='adam',metrics=['accuracy'])\n",
        "model.summary()"
      ],
      "execution_count": 0,
      "outputs": [
        {
          "output_type": "stream",
          "text": [
            "Model: \"sequential\"\n",
            "_________________________________________________________________\n",
            "Layer (type)                 Output Shape              Param #   \n",
            "=================================================================\n",
            "embedding (Embedding)        (None, 120, 32)           64000     \n",
            "_________________________________________________________________\n",
            "global_average_pooling1d (Gl (None, 32)                0         \n",
            "_________________________________________________________________\n",
            "dense (Dense)                (None, 6)                 198       \n",
            "_________________________________________________________________\n",
            "dense_1 (Dense)              (None, 1)                 7         \n",
            "=================================================================\n",
            "Total params: 64,205\n",
            "Trainable params: 64,205\n",
            "Non-trainable params: 0\n",
            "_________________________________________________________________\n"
          ],
          "name": "stdout"
        }
      ]
    },
    {
      "cell_type": "code",
      "metadata": {
        "id": "DWhsNzMQ_BkM",
        "colab_type": "code",
        "outputId": "03c5b959-2f06-4f63-ecad-7b3486344fd4",
        "colab": {
          "base_uri": "https://localhost:8080/",
          "height": 409
        }
      },
      "source": [
        "num_epochs = 10\n",
        "model.fit(train_padded, training_label_seq, epochs=num_epochs, validation_data=(test_padded, test_label_seq))"
      ],
      "execution_count": 0,
      "outputs": [
        {
          "output_type": "error",
          "ename": "ValueError",
          "evalue": "ignored",
          "traceback": [
            "\u001b[0;31m---------------------------------------------------------------------------\u001b[0m",
            "\u001b[0;31mValueError\u001b[0m                                Traceback (most recent call last)",
            "\u001b[0;32m<ipython-input-23-96a79f8abfc2>\u001b[0m in \u001b[0;36m<module>\u001b[0;34m()\u001b[0m\n\u001b[1;32m      1\u001b[0m \u001b[0mnum_epochs\u001b[0m \u001b[0;34m=\u001b[0m \u001b[0;36m10\u001b[0m\u001b[0;34m\u001b[0m\u001b[0;34m\u001b[0m\u001b[0m\n\u001b[0;32m----> 2\u001b[0;31m \u001b[0mmodel\u001b[0m\u001b[0;34m.\u001b[0m\u001b[0mfit\u001b[0m\u001b[0;34m(\u001b[0m\u001b[0mtrain_padded\u001b[0m\u001b[0;34m,\u001b[0m \u001b[0mtraining_label_seq\u001b[0m\u001b[0;34m,\u001b[0m \u001b[0mepochs\u001b[0m\u001b[0;34m=\u001b[0m\u001b[0mnum_epochs\u001b[0m\u001b[0;34m,\u001b[0m \u001b[0mvalidation_data\u001b[0m\u001b[0;34m=\u001b[0m\u001b[0;34m(\u001b[0m\u001b[0mtest_padded\u001b[0m\u001b[0;34m,\u001b[0m \u001b[0mtest_label_seq\u001b[0m\u001b[0;34m)\u001b[0m\u001b[0;34m)\u001b[0m\u001b[0;34m\u001b[0m\u001b[0;34m\u001b[0m\u001b[0m\n\u001b[0m",
            "\u001b[0;32m/usr/local/lib/python3.6/dist-packages/tensorflow/python/keras/engine/training.py\u001b[0m in \u001b[0;36m_method_wrapper\u001b[0;34m(self, *args, **kwargs)\u001b[0m\n\u001b[1;32m     64\u001b[0m   \u001b[0;32mdef\u001b[0m \u001b[0m_method_wrapper\u001b[0m\u001b[0;34m(\u001b[0m\u001b[0mself\u001b[0m\u001b[0;34m,\u001b[0m \u001b[0;34m*\u001b[0m\u001b[0margs\u001b[0m\u001b[0;34m,\u001b[0m \u001b[0;34m**\u001b[0m\u001b[0mkwargs\u001b[0m\u001b[0;34m)\u001b[0m\u001b[0;34m:\u001b[0m\u001b[0;34m\u001b[0m\u001b[0;34m\u001b[0m\u001b[0m\n\u001b[1;32m     65\u001b[0m     \u001b[0;32mif\u001b[0m \u001b[0;32mnot\u001b[0m \u001b[0mself\u001b[0m\u001b[0;34m.\u001b[0m\u001b[0m_in_multi_worker_mode\u001b[0m\u001b[0;34m(\u001b[0m\u001b[0;34m)\u001b[0m\u001b[0;34m:\u001b[0m  \u001b[0;31m# pylint: disable=protected-access\u001b[0m\u001b[0;34m\u001b[0m\u001b[0;34m\u001b[0m\u001b[0m\n\u001b[0;32m---> 66\u001b[0;31m       \u001b[0;32mreturn\u001b[0m \u001b[0mmethod\u001b[0m\u001b[0;34m(\u001b[0m\u001b[0mself\u001b[0m\u001b[0;34m,\u001b[0m \u001b[0;34m*\u001b[0m\u001b[0margs\u001b[0m\u001b[0;34m,\u001b[0m \u001b[0;34m**\u001b[0m\u001b[0mkwargs\u001b[0m\u001b[0;34m)\u001b[0m\u001b[0;34m\u001b[0m\u001b[0;34m\u001b[0m\u001b[0m\n\u001b[0m\u001b[1;32m     67\u001b[0m \u001b[0;34m\u001b[0m\u001b[0m\n\u001b[1;32m     68\u001b[0m     \u001b[0;31m# Running inside `run_distribute_coordinator` already.\u001b[0m\u001b[0;34m\u001b[0m\u001b[0;34m\u001b[0m\u001b[0;34m\u001b[0m\u001b[0m\n",
            "\u001b[0;32m/usr/local/lib/python3.6/dist-packages/tensorflow/python/keras/engine/training.py\u001b[0m in \u001b[0;36mfit\u001b[0;34m(self, x, y, batch_size, epochs, verbose, callbacks, validation_split, validation_data, shuffle, class_weight, sample_weight, initial_epoch, steps_per_epoch, validation_steps, validation_batch_size, validation_freq, max_queue_size, workers, use_multiprocessing, **kwargs)\u001b[0m\n\u001b[1;32m    750\u001b[0m           \u001b[0mworkers\u001b[0m\u001b[0;34m=\u001b[0m\u001b[0mworkers\u001b[0m\u001b[0;34m,\u001b[0m\u001b[0;34m\u001b[0m\u001b[0;34m\u001b[0m\u001b[0m\n\u001b[1;32m    751\u001b[0m           \u001b[0muse_multiprocessing\u001b[0m\u001b[0;34m=\u001b[0m\u001b[0muse_multiprocessing\u001b[0m\u001b[0;34m,\u001b[0m\u001b[0;34m\u001b[0m\u001b[0;34m\u001b[0m\u001b[0m\n\u001b[0;32m--> 752\u001b[0;31m           model=self)\n\u001b[0m\u001b[1;32m    753\u001b[0m \u001b[0;34m\u001b[0m\u001b[0m\n\u001b[1;32m    754\u001b[0m       \u001b[0;31m# Container that configures and calls `tf.keras.Callback`s.\u001b[0m\u001b[0;34m\u001b[0m\u001b[0;34m\u001b[0m\u001b[0;34m\u001b[0m\u001b[0m\n",
            "\u001b[0;32m/usr/local/lib/python3.6/dist-packages/tensorflow/python/keras/engine/data_adapter.py\u001b[0m in \u001b[0;36m__init__\u001b[0;34m(self, x, y, sample_weight, batch_size, steps_per_epoch, initial_epoch, epochs, shuffle, class_weight, max_queue_size, workers, use_multiprocessing, model)\u001b[0m\n\u001b[1;32m   1110\u001b[0m         \u001b[0muse_multiprocessing\u001b[0m\u001b[0;34m=\u001b[0m\u001b[0muse_multiprocessing\u001b[0m\u001b[0;34m,\u001b[0m\u001b[0;34m\u001b[0m\u001b[0;34m\u001b[0m\u001b[0m\n\u001b[1;32m   1111\u001b[0m         \u001b[0mdistribution_strategy\u001b[0m\u001b[0;34m=\u001b[0m\u001b[0mds_context\u001b[0m\u001b[0;34m.\u001b[0m\u001b[0mget_strategy\u001b[0m\u001b[0;34m(\u001b[0m\u001b[0;34m)\u001b[0m\u001b[0;34m,\u001b[0m\u001b[0;34m\u001b[0m\u001b[0;34m\u001b[0m\u001b[0m\n\u001b[0;32m-> 1112\u001b[0;31m         model=model)\n\u001b[0m\u001b[1;32m   1113\u001b[0m \u001b[0;34m\u001b[0m\u001b[0m\n\u001b[1;32m   1114\u001b[0m     \u001b[0mstrategy\u001b[0m \u001b[0;34m=\u001b[0m \u001b[0mds_context\u001b[0m\u001b[0;34m.\u001b[0m\u001b[0mget_strategy\u001b[0m\u001b[0;34m(\u001b[0m\u001b[0;34m)\u001b[0m\u001b[0;34m\u001b[0m\u001b[0;34m\u001b[0m\u001b[0m\n",
            "\u001b[0;32m/usr/local/lib/python3.6/dist-packages/tensorflow/python/keras/engine/data_adapter.py\u001b[0m in \u001b[0;36m__init__\u001b[0;34m(self, x, y, sample_weights, sample_weight_modes, batch_size, epochs, steps, shuffle, **kwargs)\u001b[0m\n\u001b[1;32m    280\u001b[0m             label, \", \".join(str(i.shape[0]) for i in nest.flatten(data)))\n\u001b[1;32m    281\u001b[0m       \u001b[0mmsg\u001b[0m \u001b[0;34m+=\u001b[0m \u001b[0;34m\"Please provide data which shares the same first dimension.\"\u001b[0m\u001b[0;34m\u001b[0m\u001b[0;34m\u001b[0m\u001b[0m\n\u001b[0;32m--> 282\u001b[0;31m       \u001b[0;32mraise\u001b[0m \u001b[0mValueError\u001b[0m\u001b[0;34m(\u001b[0m\u001b[0mmsg\u001b[0m\u001b[0;34m)\u001b[0m\u001b[0;34m\u001b[0m\u001b[0;34m\u001b[0m\u001b[0m\n\u001b[0m\u001b[1;32m    283\u001b[0m     \u001b[0mnum_samples\u001b[0m \u001b[0;34m=\u001b[0m \u001b[0mnum_samples\u001b[0m\u001b[0;34m.\u001b[0m\u001b[0mpop\u001b[0m\u001b[0;34m(\u001b[0m\u001b[0;34m)\u001b[0m\u001b[0;34m\u001b[0m\u001b[0;34m\u001b[0m\u001b[0m\n\u001b[1;32m    284\u001b[0m \u001b[0;34m\u001b[0m\u001b[0m\n",
            "\u001b[0;31mValueError\u001b[0m: Data cardinality is ambiguous:\n  x sizes: 288\n  y sizes: 762\nPlease provide data which shares the same first dimension."
          ]
        }
      ]
    },
    {
      "cell_type": "code",
      "metadata": {
        "id": "zfU4ZOHUSr2K",
        "colab_type": "code",
        "outputId": "33a9b00a-c8e7-4d7f-fadf-ed23a1432a7e",
        "colab": {
          "base_uri": "https://localhost:8080/",
          "height": 46
        }
      },
      "source": [
        "print(len(train_padded),len(test_padded))"
      ],
      "execution_count": 0,
      "outputs": [
        {
          "output_type": "stream",
          "text": [
            "161 127\n"
          ],
          "name": "stdout"
        }
      ]
    },
    {
      "cell_type": "code",
      "metadata": {
        "id": "kKDEXiJ0dQE5",
        "colab_type": "code",
        "colab": {}
      },
      "source": [
        "'''train_sentences = []\n",
        "train_labels = []\n",
        "test_sentences = []\n",
        "test_labels = [] \n",
        "\n",
        "for  s,l in train_dict.items():\n",
        "  train_sentences.append(str(s.numpy()))\n",
        "  train_labels.append(l.numpy())\n",
        "\n",
        "for s,l in test_data.items():\n",
        "  test_labels.append(s.numpy())\n",
        "  test_sentences.append(str(l.numpy()))\n",
        "train_labels_final = np.array(train_labels)\n",
        "test_labels_final = np.array(test_labels)'''"
      ],
      "execution_count": 0,
      "outputs": []
    },
    {
      "cell_type": "code",
      "metadata": {
        "id": "AX8tmWYRElRp",
        "colab_type": "code",
        "colab": {}
      },
      "source": [
        "'''settings = {\n",
        "    'window_size': 2, #context window +- center woed\n",
        "    'n' : 10,  # dimensions of word embeddings, also refer to size of hidden layer\n",
        "\t  'epochs': 50,\t\t# number of training epochs\n",
        "\t  'learning_rate': 0.01\t# learning rate\n",
        "}'''"
      ],
      "execution_count": 0,
      "outputs": []
    },
    {
      "cell_type": "code",
      "metadata": {
        "id": "x5o4uCINFEoK",
        "colab_type": "code",
        "colab": {}
      },
      "source": [
        "'''# Initialize object\n",
        "w2v = word2vec()\n",
        "# Numpy ndarray with one-hot representation for [target_word, context_words]\n",
        "training = w2v.generate_training_data(settings, train_corpus)'''"
      ],
      "execution_count": 0,
      "outputs": []
    },
    {
      "cell_type": "code",
      "metadata": {
        "id": "8aX41N9-El_e",
        "colab_type": "code",
        "colab": {}
      },
      "source": [
        "'''embedding_index = {}\n",
        "for line in train_data:\n",
        "  word = train_corpus[1]\n",
        "  coefs = np.asarray(train_corpus[1:])\n",
        "  embedding_index[word] = coefs'''"
      ],
      "execution_count": 0,
      "outputs": []
    }
  ]
}